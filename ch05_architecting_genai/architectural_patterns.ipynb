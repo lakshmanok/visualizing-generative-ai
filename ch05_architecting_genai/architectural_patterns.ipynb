{
 "cells": [
  {
   "cell_type": "markdown",
   "id": "c8616aa7-cc1f-4781-8d8e-81f0be58a07c",
   "metadata": {
    "tags": []
   },
   "source": [
    "# Architectural Patterns\n",
    "\n",
    "This notebook contains snippets used to illustrate the various patterns"
   ]
  },
  {
   "cell_type": "code",
   "execution_count": 5,
   "id": "bd69fc04-0efe-451e-93a8-1a6a19ae6e2e",
   "metadata": {
    "tags": []
   },
   "outputs": [
    {
     "name": "stdout",
     "output_type": "stream",
     "text": [
      "\u001b[33m  WARNING: Failed to remove contents in a temporary directory '/opt/conda/lib/python3.10/site-packages/google/~pi_core'.\n",
      "  You can safely remove it manually.\u001b[0m\u001b[33m\n",
      "\u001b[0m\u001b[31mERROR: pip's dependency resolver does not currently take into account all the packages that are installed. This behaviour is the source of the following dependency conflicts.\n",
      "kfp 2.5.0 requires kubernetes<27,>=8.0.0, but you have kubernetes 30.1.0 which is incompatible.\n",
      "kfp 2.5.0 requires urllib3<2.0.0, but you have urllib3 2.2.1 which is incompatible.\n",
      "langchain 0.2.11 requires langchain-core<0.3.0,>=0.2.23, but you have langchain-core 0.3.6 which is incompatible.\n",
      "langchain-chroma 0.1.2 requires langchain-core<0.3,>=0.1.40, but you have langchain-core 0.3.6 which is incompatible.\n",
      "langchain-community 0.2.10 requires langchain-core<0.3.0,>=0.2.23, but you have langchain-core 0.3.6 which is incompatible.\n",
      "langchain-google-genai 1.0.8 requires google-generativeai<0.8.0,>=0.7.0, but you have google-generativeai 0.8.1 which is incompatible.\n",
      "langchain-google-genai 1.0.8 requires langchain-core<0.3,>=0.2.17, but you have langchain-core 0.3.6 which is incompatible.\n",
      "langchain-openai 0.1.19 requires langchain-core<0.3.0,>=0.2.24, but you have langchain-core 0.3.6 which is incompatible.\n",
      "langchain-text-splitters 0.2.2 requires langchain-core<0.3.0,>=0.2.10, but you have langchain-core 0.3.6 which is incompatible.\n",
      "langgraph 0.1.17 requires langchain-core<0.3,>=0.2.22, but you have langchain-core 0.3.6 which is incompatible.\u001b[0m\u001b[31m\n",
      "\u001b[0mNote: you may need to restart the kernel to use updated packages.\n"
     ]
    }
   ],
   "source": [
    "%pip install -qU langchain-google-vertexai"
   ]
  },
  {
   "cell_type": "code",
   "execution_count": 1,
   "id": "926c7cb8-b6da-4a05-8f6c-debe86ae5aff",
   "metadata": {
    "tags": []
   },
   "outputs": [],
   "source": [
    "from dotenv import load_dotenv\n",
    "\n",
    "load_dotenv(\"../genai_agents/keys.env\");"
   ]
  },
  {
   "cell_type": "code",
   "execution_count": null,
   "id": "91d4c098-8190-41d8-a991-007e58427399",
   "metadata": {},
   "outputs": [],
   "source": [
    "from langchain_core.prompts import PromptTemplate\n",
    "from langchain_google_vertexai import ChatVertexAI\n",
    "from langchain_core.output_parsers import StrOutputParser"
   ]
  },
  {
   "cell_type": "markdown",
   "id": "2887412e-c2df-4fc3-b486-8da7247ea4f0",
   "metadata": {},
   "source": [
    "## 1. Generate each time"
   ]
  },
  {
   "cell_type": "code",
   "execution_count": 12,
   "id": "42fc485e-97e2-4669-b4fd-ba34f9accfa8",
   "metadata": {
    "tags": []
   },
   "outputs": [
    {
     "name": "stdout",
     "output_type": "stream",
     "text": [
      "Dear John,\n",
      "\n",
      "On behalf of everyone at [Company Name], I wanted to extend our sincere gratitude for your engaging and insightful presentation at the Data Conference. Your expertise on [topic] was invaluable, and we greatly appreciate you sharing your knowledge with us. \n",
      "\n",
      "Sincerely, \n",
      "\n",
      "Jane \n",
      "\n"
     ]
    }
   ],
   "source": [
    "model = ChatVertexAI(model=\"gemini-1.5-flash\")\n",
    "prompt_template = PromptTemplate.from_template(\n",
    "    \"\"\"\n",
    "    You are an AI executive assistant to {sender_name} who writes letters on behalf of the executive.\n",
    "    Write a 3-5 sentence thank you message to {recipient_name} for {reason_for_thanks}.\n",
    "    Extract the first name from {sender_name} and sign the message with just the first name.\n",
    "    \"\"\"\n",
    ")\n",
    "parser = StrOutputParser()\n",
    "chain = prompt_template | model | parser\n",
    "\n",
    "response = chain.invoke({\n",
    "    \"recipient_name\": \"John Doe\",\n",
    "    \"reason_for_thanks\": \"speaking at our Data Conference\",\n",
    "    \"sender_name\": \"Jane Brown\",\n",
    "})\n",
    "\n",
    "print(response)"
   ]
  },
  {
   "cell_type": "markdown",
   "id": "65bdcacf-34b0-4513-95f7-bc138ca43175",
   "metadata": {
    "tags": []
   },
   "source": [
    "## 2. Cache responses"
   ]
  },
  {
   "cell_type": "code",
   "execution_count": 18,
   "id": "7a6560e9-643e-409c-b7db-0c27d8938b02",
   "metadata": {
    "tags": []
   },
   "outputs": [],
   "source": [
    "from langchain_core.caches import InMemoryCache\n",
    "from langchain_core.globals import set_llm_cache\n",
    "\n",
    "set_llm_cache(InMemoryCache())\n",
    "\n",
    "prompt_template = PromptTemplate.from_template(\n",
    "    \"\"\"\n",
    "    What are the steps to put a freeze on my credit card account?\n",
    "    \"\"\"\n",
    ")\n",
    "chain = prompt_template | model | parser"
   ]
  },
  {
   "cell_type": "markdown",
   "id": "f03e480b-a408-4350-8299-ee4c02efb32b",
   "metadata": {},
   "source": [
    "First time"
   ]
  },
  {
   "cell_type": "code",
   "execution_count": 19,
   "id": "ce6b07db-b816-42b7-b69e-6fbf8a3e5c89",
   "metadata": {
    "tags": []
   },
   "outputs": [
    {
     "name": "stdout",
     "output_type": "stream",
     "text": [
      "I can't provide specific steps for freezing your credit card account. That's because:\n",
      "\n",
      "* **Each credit card issuer has its own process.** There isn't a universal method for freezing accounts. You'll need to contact your specific credit card company directly.\n",
      "* **\"Freezing\" a credit card usually means closing it.** It's very unlikely that a credit card issuer would offer a temporary freeze. If you need to stop using your card temporarily, you can simply cut it up or keep it in a safe place. \n",
      "\n",
      "**However, I can provide general guidance on what you should do:**\n",
      "\n",
      "1. **Contact your credit card issuer.**  Look for a phone number or website address on your card or your statement.\n",
      "2. **Explain your reason for wanting to close the account.** Be honest and clear about your situation.\n",
      "3. **Follow their instructions.** They may ask for specific information or request you to submit a form.\n",
      "4. **Confirm the closure.** Make sure you understand the process and receive confirmation that your account is closed.\n",
      "5. **Keep records.** Keep any correspondence or confirmation emails for your records.\n",
      "\n",
      "**Here are some things to consider:**\n",
      "\n",
      "* **Closing a credit card can impact your credit score.** If you have multiple credit cards, closing one may not have a significant impact. However, if you have a limited credit history, closing your only credit card can negatively affect your score.\n",
      "* **Consider alternative options.** If you are concerned about fraud or unauthorized use, you can also consider:\n",
      "    * **Reporting your card stolen or lost.** This will immediately disable the card.\n",
      "    * **Setting a spending limit.** Many credit card companies allow you to set daily or monthly spending limits.\n",
      "    * **Temporarily disabling online purchases.** You can often disable online purchases through your credit card account settings. \n",
      "\n",
      "**Remember:** Always consult directly with your credit card issuer for specific instructions and guidance. They are the best source of information for your account. \n",
      "\n",
      "CPU times: user 7.69 ms, sys: 4.35 ms, total: 12 ms\n",
      "Wall time: 2.35 s\n"
     ]
    }
   ],
   "source": [
    "%%time\n",
    "print(chain.invoke({}))"
   ]
  },
  {
   "cell_type": "markdown",
   "id": "cc6c1472-39ba-46a1-b3c9-a3cc232ccc5b",
   "metadata": {},
   "source": [
    "Second time"
   ]
  },
  {
   "cell_type": "code",
   "execution_count": 20,
   "id": "e96c075a-5754-4d9e-bf6c-d752e61ff4d4",
   "metadata": {
    "tags": []
   },
   "outputs": [
    {
     "name": "stdout",
     "output_type": "stream",
     "text": [
      "I can't provide specific steps for freezing your credit card account. That's because:\n",
      "\n",
      "* **Each credit card issuer has its own process.** There isn't a universal method for freezing accounts. You'll need to contact your specific credit card company directly.\n",
      "* **\"Freezing\" a credit card usually means closing it.** It's very unlikely that a credit card issuer would offer a temporary freeze. If you need to stop using your card temporarily, you can simply cut it up or keep it in a safe place. \n",
      "\n",
      "**However, I can provide general guidance on what you should do:**\n",
      "\n",
      "1. **Contact your credit card issuer.**  Look for a phone number or website address on your card or your statement.\n",
      "2. **Explain your reason for wanting to close the account.** Be honest and clear about your situation.\n",
      "3. **Follow their instructions.** They may ask for specific information or request you to submit a form.\n",
      "4. **Confirm the closure.** Make sure you understand the process and receive confirmation that your account is closed.\n",
      "5. **Keep records.** Keep any correspondence or confirmation emails for your records.\n",
      "\n",
      "**Here are some things to consider:**\n",
      "\n",
      "* **Closing a credit card can impact your credit score.** If you have multiple credit cards, closing one may not have a significant impact. However, if you have a limited credit history, closing your only credit card can negatively affect your score.\n",
      "* **Consider alternative options.** If you are concerned about fraud or unauthorized use, you can also consider:\n",
      "    * **Reporting your card stolen or lost.** This will immediately disable the card.\n",
      "    * **Setting a spending limit.** Many credit card companies allow you to set daily or monthly spending limits.\n",
      "    * **Temporarily disabling online purchases.** You can often disable online purchases through your credit card account settings. \n",
      "\n",
      "**Remember:** Always consult directly with your credit card issuer for specific instructions and guidance. They are the best source of information for your account. \n",
      "\n",
      "CPU times: user 2.2 ms, sys: 257 µs, total: 2.46 ms\n",
      "Wall time: 1.88 ms\n"
     ]
    }
   ],
   "source": [
    "%%time\n",
    "print(chain.invoke({}))"
   ]
  },
  {
   "cell_type": "markdown",
   "id": "e8d22d74-faa4-405f-8bd6-a6f0c5835b00",
   "metadata": {},
   "source": [
    "<b> 2 seconds -> 2 milliseconds </b> because of the cache."
   ]
  },
  {
   "cell_type": "markdown",
   "id": "05af31d9-11e8-4295-b36d-ebf98bb773cb",
   "metadata": {},
   "source": [
    "## 3. Pregenerated templates"
   ]
  },
  {
   "cell_type": "code",
   "execution_count": 23,
   "id": "0d6c2738-8a9a-4d3e-a6aa-b4624316e14c",
   "metadata": {
    "tags": []
   },
   "outputs": [
    {
     "name": "stdout",
     "output_type": "stream",
     "text": [
      "Dear [CUSTOMER_NAME],\n",
      "\n",
      "We are thrilled to welcome you to Toledo on your upcoming tour! We can't wait to show you the beauty and history of this enchanting city.\n",
      "\n",
      "Toledo, known as the \"City of Three Cultures,\" boasts a fascinating blend of Christian, Muslim, and Jewish heritage.  You'll be mesmerized by the stunning architecture, from the imposing Alcázar fortress to the majestic Toledo Cathedral. \n",
      "\n",
      "During your tour, you'll have the opportunity to:\n",
      "\n",
      "* **Explore the historic Jewish Quarter:** Wander through the narrow streets lined with ancient synagogues and traditional houses. \n",
      "* **Visit the Monastery of San Juan de los Reyes:** Admire the exquisite Gothic architecture and stunning cloisters.\n",
      "* **Experience the panoramic views:** Take a scenic walk along the banks of the Tagus River and soak in the breathtaking views of the city.\n",
      "* **Delve into the art of Toledo:** Discover the works of El Greco, the renowned painter who captured the essence of this city in his art.\n",
      "\n",
      "Our expert tour guide, [TOUR_GUIDE], will provide insightful commentary and share fascinating stories about Toledo's rich past. \n",
      "\n",
      "We know you'll have a wonderful time exploring the city's treasures. Feel free to reach out if you have any questions before your arrival.\n",
      "\n",
      "We look forward to welcoming you to Toledo!\n",
      "\n",
      "Sincerely,\n",
      "\n",
      "The [Tour Company Name] Team \n",
      "\n"
     ]
    }
   ],
   "source": [
    "prompt_template = PromptTemplate.from_template(\n",
    "    \"\"\"\n",
    "    Write a letter to a customer who has purchased a tour package.\n",
    "    The customer is traveling {group_type} and the tour is to {tour_destination}.\n",
    "    Sound excited to see them and explain some of the highlights of what they will see there\n",
    "    and some of the things they can do while there.\n",
    "    In the letter, use [CUSTOMER_NAME] to indicate the place to be replaced by their name\n",
    "    and [TOUR_GUIDE] to indicate the place to be replaced by the name of the tour guide.\n",
    "    \"\"\"\n",
    ")\n",
    "chain = prompt_template | model | parser\n",
    "print(chain.invoke({\n",
    "    \"group_type\": \"family\",\n",
    "    \"tour_destination\": \"Toledo, Spain\",\n",
    "}))"
   ]
  },
  {
   "cell_type": "code",
   "execution_count": null,
   "id": "eee9c1f9-e005-49e5-8b76-de1832cb7f70",
   "metadata": {
    "tags": []
   },
   "outputs": [],
   "source": [
    "import pandas as pd\n",
    "cached_messages = {\n",
    "    \"group_type\": [],\n",
    "    \"tour_destination\": [],\n",
    "    \"thank_you_message\": []\n",
    "}\n",
    "for group_type in [\"family\", \"solo\"]:\n",
    "    for tour_destination in [\"Toledo, Spain\", \"Avila & Segovia\", \"Cuenca, Spain\"]:\n",
    "        cached_messages[\"group_type\"].append(group_type)\n",
    "        cached_messages[\"tour_destination\"].append(tour_destination)\n",
    "        cached_messages[\"thank_you_message\"].append(chain.invoke({\n",
    "            \"group_type\": group_type,\n",
    "            \"tour_destination\": tour_destination,\n",
    "        }))\n",
    "\n",
    "cached_messages = pd.DataFrame(cached_messages)"
   ]
  },
  {
   "cell_type": "code",
   "execution_count": 28,
   "id": "84824c56-1b93-4fc0-8f7a-a547ce720641",
   "metadata": {
    "tags": []
   },
   "outputs": [
    {
     "data": {
      "text/html": [
       "<div>\n",
       "<style scoped>\n",
       "    .dataframe tbody tr th:only-of-type {\n",
       "        vertical-align: middle;\n",
       "    }\n",
       "\n",
       "    .dataframe tbody tr th {\n",
       "        vertical-align: top;\n",
       "    }\n",
       "\n",
       "    .dataframe thead th {\n",
       "        text-align: right;\n",
       "    }\n",
       "</style>\n",
       "<table border=\"1\" class=\"dataframe\">\n",
       "  <thead>\n",
       "    <tr style=\"text-align: right;\">\n",
       "      <th></th>\n",
       "      <th>group_type</th>\n",
       "      <th>tour_destination</th>\n",
       "      <th>thank_you_message</th>\n",
       "    </tr>\n",
       "  </thead>\n",
       "  <tbody>\n",
       "    <tr>\n",
       "      <th>0</th>\n",
       "      <td>family</td>\n",
       "      <td>Toledo, Spain</td>\n",
       "      <td>Dear [CUSTOMER_NAME],\\n\\nWe are thrilled to we...</td>\n",
       "    </tr>\n",
       "    <tr>\n",
       "      <th>1</th>\n",
       "      <td>family</td>\n",
       "      <td>Avila &amp; Segovia</td>\n",
       "      <td>Dear [CUSTOMER_NAME],\\n\\nWe are thrilled to we...</td>\n",
       "    </tr>\n",
       "    <tr>\n",
       "      <th>2</th>\n",
       "      <td>family</td>\n",
       "      <td>Cuenca, Spain</td>\n",
       "      <td>Dear [CUSTOMER_NAME],\\n\\nWe are thrilled to we...</td>\n",
       "    </tr>\n",
       "    <tr>\n",
       "      <th>3</th>\n",
       "      <td>solo</td>\n",
       "      <td>Toledo, Spain</td>\n",
       "      <td>Dear [CUSTOMER_NAME],\\n\\nWe are so excited to ...</td>\n",
       "    </tr>\n",
       "    <tr>\n",
       "      <th>4</th>\n",
       "      <td>solo</td>\n",
       "      <td>Avila &amp; Segovia</td>\n",
       "      <td>Dear [CUSTOMER_NAME],\\n\\nWe are thrilled to we...</td>\n",
       "    </tr>\n",
       "    <tr>\n",
       "      <th>5</th>\n",
       "      <td>solo</td>\n",
       "      <td>Cuenca, Spain</td>\n",
       "      <td>Dear [CUSTOMER_NAME],\\n\\nWe are thrilled to we...</td>\n",
       "    </tr>\n",
       "  </tbody>\n",
       "</table>\n",
       "</div>"
      ],
      "text/plain": [
       "  group_type tour_destination  \\\n",
       "0     family    Toledo, Spain   \n",
       "1     family  Avila & Segovia   \n",
       "2     family    Cuenca, Spain   \n",
       "3       solo    Toledo, Spain   \n",
       "4       solo  Avila & Segovia   \n",
       "5       solo    Cuenca, Spain   \n",
       "\n",
       "                                   thank_you_message  \n",
       "0  Dear [CUSTOMER_NAME],\\n\\nWe are thrilled to we...  \n",
       "1  Dear [CUSTOMER_NAME],\\n\\nWe are thrilled to we...  \n",
       "2  Dear [CUSTOMER_NAME],\\n\\nWe are thrilled to we...  \n",
       "3  Dear [CUSTOMER_NAME],\\n\\nWe are so excited to ...  \n",
       "4  Dear [CUSTOMER_NAME],\\n\\nWe are thrilled to we...  \n",
       "5  Dear [CUSTOMER_NAME],\\n\\nWe are thrilled to we...  "
      ]
     },
     "execution_count": 28,
     "metadata": {},
     "output_type": "execute_result"
    }
   ],
   "source": [
    "cached_messages"
   ]
  },
  {
   "cell_type": "code",
   "execution_count": 31,
   "id": "40c9fd4f-18d4-4d71-948f-626ffa61e854",
   "metadata": {
    "tags": []
   },
   "outputs": [
    {
     "data": {
      "text/plain": [
       "'Dear [CUSTOMER_NAME],\\n\\nWe are thrilled to welcome you to Cuenca for your upcoming solo tour! We know you\\'re going to love this charming city. \\n\\nCuenca is a UNESCO World Heritage Site, known for its stunning architecture, breathtaking views, and rich history. Prepare to be amazed by the \"Casas Colgadas\" – the Hanging Houses, perched dramatically on the edge of the Huécar River gorge. \\n\\nWe\\'ve planned a fantastic itinerary for you, which includes visits to iconic landmarks like the Cathedral of Cuenca, the San Pablo Bridge, and the Cuenca Archaeological Museum. You\\'ll also have ample time to explore the city\\'s charming streets, soak in the atmosphere, and discover hidden gems.\\n\\nYour tour guide, [TOUR_GUIDE], is an expert on Cuenca and passionate about sharing its wonders. They will be your guide throughout your journey, providing fascinating insights and ensuring you have a truly unforgettable experience.\\n\\nWe know you\\'ll enjoy the delicious local cuisine, especially the famous \"morteruelo\" stew. Don\\'t forget to take a stroll through the bustling Plaza Mayor, or explore the vibrant art scene in the charming neighborhoods.\\n\\nWe can\\'t wait to see you in Cuenca and share this incredible city with you!\\n\\nSincerely,\\n\\nThe [Your Company Name] Team \\n'"
      ]
     },
     "execution_count": 31,
     "metadata": {},
     "output_type": "execute_result"
    }
   ],
   "source": [
    "cached_messages.iloc[5]['thank_you_message']"
   ]
  },
  {
   "cell_type": "markdown",
   "id": "5a9fcae4-d743-4032-8969-2123cc0a6161",
   "metadata": {},
   "source": [
    "## 5. Assembled Reformat\n",
    "\n",
    "Assemble ..."
   ]
  },
  {
   "cell_type": "code",
   "execution_count": 32,
   "id": "6d6fa565-4b62-41cf-9dcf-5f8cb36f23dc",
   "metadata": {
    "tags": []
   },
   "outputs": [
    {
     "name": "stdout",
     "output_type": "stream",
     "text": [
      "The wet end of a paper machine is a crucial section where the paper sheet is formed and dewatered. It encompasses a series of components like the headbox, wire mesh, press section, and felt rolls. The headbox distributes the pulp slurry evenly onto the moving wire mesh, where water drains through and the fibers begin to bond. The press section further removes water by squeezing the sheet between heavy rollers.  While a robustly designed component, wear and tear, corrosion, and potential damage from foreign objects can necessitate replacing parts within the wet end. Replacing worn-out components like wire mesh, felt rolls, or press rollers ensures optimal water removal, sheet formation, and overall paper quality. \n",
      "\n"
     ]
    }
   ],
   "source": [
    "prompt_template = PromptTemplate.from_template(\n",
    "    \"\"\"\n",
    "    You are a content writer for a manufacturer of paper machines.\n",
    "    Write a one-paragraph description of a {part_name}, which is one of the parts of a paper machine.\n",
    "    Explain what the part is used for, and reasons that might need to replace the part.\n",
    "    \"\"\"\n",
    ")\n",
    "chain = prompt_template | model | parser\n",
    "print(chain.invoke({\n",
    "    \"part_name\": \"wet end\",\n",
    "}))"
   ]
  },
  {
   "cell_type": "code",
   "execution_count": 42,
   "id": "e75b6ab7-72e7-45fd-a5c1-23c4208f4559",
   "metadata": {
    "tags": []
   },
   "outputs": [
    {
     "name": "stdout",
     "output_type": "stream",
     "text": [
      "{'model_id': 'JP2323', 'part_type': 'wet end', 'list_price': '3432.99', 'description': 'The wet end of a paper machine is a crucial section where the paper sheet is formed and dewatered. It encompasses a series of components like the headbox, wire mesh, press section, and felt rolls. The headbox distributes the pulp slurry evenly onto the moving wire mesh, where water drains through and the fibers begin to bond. The press section further removes water by squeezing the sheet between heavy rollers.  While a robustly designed component, wear and tear, corrosion, and potential damage from foreign objects can necessitate replacing parts within the wet end. Replacing worn-out components like wire mesh, felt rolls, or press rollers ensures optimal water removal, sheet formation, and overall paper quality.'}\n"
     ]
    }
   ],
   "source": [
    "from langchain_core.output_parsers import JsonOutputParser\n",
    "from pydantic import BaseModel, Field\n",
    "\n",
    "class CatalogContent(BaseModel):\n",
    "    part_name: str = Field(\"Common name of part\")\n",
    "    part_id: str = Field(\"unique part id in catalog\")\n",
    "    part_description: str = Field(\"short description of part\")\n",
    "    price: str = Field(\"price of part\")\n",
    "\n",
    "catalog_parser = JsonOutputParser(pydantic_object=CatalogContent)\n",
    "\n",
    "prompt_template = PromptTemplate(\n",
    "    template=\"\"\"\n",
    "    Extract the information needed and provide the output as JSON.\n",
    "    {database_info}\n",
    "    Part description follows:\n",
    "    {generated_description}\n",
    "    \"\"\",\n",
    "    input_variables=[\"generated_description\", \"database_info\"],\n",
    "    partial_variables={\"format_instructions\": catalog_parser.get_format_instructions()},\n",
    ")\n",
    "\n",
    "chain = prompt_template | model | catalog_parser\n",
    "print(chain.invoke({\n",
    "    \"generated_description\": \"\"\"\n",
    "    The wet end of a paper machine is a crucial section where the paper sheet is formed and dewatered. It encompasses a series of components like the headbox, wire mesh, press section, and felt rolls. The headbox distributes the pulp slurry evenly onto the moving wire mesh, where water drains through and the fibers begin to bond. The press section further removes water by squeezing the sheet between heavy rollers.  While a robustly designed component, wear and tear, corrosion, and potential damage from foreign objects can necessitate replacing parts within the wet end. Replacing worn-out components like wire mesh, felt rolls, or press rollers ensures optimal water removal, sheet formation, and overall paper quality. \n",
    "    \"\"\",\n",
    "    \"database_info\": {\n",
    "        \"model_id\": \"JP2323\",\n",
    "        \"part_type\": \"wet end\",\n",
    "        \"list_price\": \"3432.99\",\n",
    "    }\n",
    "}))"
   ]
  },
  {
   "cell_type": "code",
   "execution_count": null,
   "id": "c0a94d6f-6329-4772-b514-1ab939483352",
   "metadata": {},
   "outputs": [],
   "source": []
  }
 ],
 "metadata": {
  "environment": {
   "kernel": "conda-base-py",
   "name": "workbench-notebooks.m120",
   "type": "gcloud",
   "uri": "us-docker.pkg.dev/deeplearning-platform-release/gcr.io/workbench-notebooks:m120"
  },
  "kernelspec": {
   "display_name": "Python 3 (ipykernel)",
   "language": "python",
   "name": "conda-base-py"
  },
  "language_info": {
   "codemirror_mode": {
    "name": "ipython",
    "version": 3
   },
   "file_extension": ".py",
   "mimetype": "text/x-python",
   "name": "python",
   "nbconvert_exporter": "python",
   "pygments_lexer": "ipython3",
   "version": "3.10.14"
  }
 },
 "nbformat": 4,
 "nbformat_minor": 5
}

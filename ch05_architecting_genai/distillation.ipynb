{
 "cells": [
  {
   "cell_type": "markdown",
   "id": "47398ad2-67e7-4f06-a200-57618b96bfe5",
   "metadata": {},
   "source": [
    "# Distillation Example\n",
    "\n",
    "This notebook shows you how to distill a small LLM to do a narrow set of tasks based on the responses of a larger LLM.\n",
    "\n",
    "Based on https://cloud.google.com/vertex-ai/generative-ai/docs/models/distill-text-models"
   ]
  },
  {
   "cell_type": "markdown",
   "id": "b8eaa92c-4e56-499a-b3f7-70ffb8eaaa80",
   "metadata": {},
   "source": [
    "## Set up.\n",
    "\n",
    "Install the necessary packages, set up the API keys etc."
   ]
  },
  {
   "cell_type": "code",
   "execution_count": 1,
   "id": "7085f440-0d17-4b22-80bf-f484257d973d",
   "metadata": {
    "tags": []
   },
   "outputs": [],
   "source": [
    "#%pip install --quiet -r requirements.txt"
   ]
  },
  {
   "cell_type": "code",
   "execution_count": 4,
   "id": "8df90819-fb10-45b2-b5f9-5e947209c9ef",
   "metadata": {
    "tags": []
   },
   "outputs": [],
   "source": [
    "from dotenv import load_dotenv\n",
    "load_dotenv(\"../keys.env\");\n",
    "\n",
    "PROVIDER = \"Google\"\n",
    "#PROVIDER = \"OpenAI\"\n",
    "\n",
    "if PROVIDER == \"Google\":\n",
    "    from langchain_google_genai import ChatGoogleGenerativeAI, GoogleGenerativeAIEmbeddings\n",
    "    model = ChatGoogleGenerativeAI(model=\"gemini-1.5-flash\", temperature=0.1)\n",
    "else:\n",
    "    from langchain_openai import ChatOpenAI, OpenAIEmbeddings\n",
    "    model = ChatOpenAI(model_name=\"gpt-4o-mini\", temperature=0.1)"
   ]
  },
  {
   "cell_type": "markdown",
   "id": "ebdbe88c-3b81-44f3-aee8-5b22b2e1926d",
   "metadata": {},
   "source": [
    "## Generate reviews\n",
    "\n",
    "Normally, you'd get the reviews from your application logs or data warehouse, but here we'll generate a synthetic dataset using an LLM."
   ]
  },
  {
   "cell_type": "code",
   "execution_count": 14,
   "id": "1295fd47-ad66-4549-b16e-f6a0018ca40a",
   "metadata": {
    "tags": []
   },
   "outputs": [],
   "source": [
    "persona = ['man', 'woman', 'student', 'retired person', 'veteran', 'restaurant critic', 'traveler']\n",
    "meal = ['breakfast', 'lunch', 'dinner']\n",
    "cuisine = ['Mexican', 'Indian', 'Chinese', 'Thai', 'Italian', 'French', 'Greek']\n",
    "service = ['fast', 'slow', 'personal', 'efficient', 'friendly', 'surly']\n",
    "food = ['terrible', 'overpriced', 'good', 'great', 'amazing']\n",
    "length = range(2, 10)"
   ]
  },
  {
   "cell_type": "code",
   "execution_count": 17,
   "id": "c7644571-e0a9-48fb-8ce0-da3fcee9d8c2",
   "metadata": {
    "tags": []
   },
   "outputs": [
    {
     "data": {
      "text/plain": [
       "'You are a veteran who visited a restaurant serving French food for breakfast. Write a 6-line review,\\nassuming that the food was amazing and the service was efficient. Add details to make it realistic.'"
      ]
     },
     "execution_count": 17,
     "metadata": {},
     "output_type": "execute_result"
    }
   ],
   "source": [
    "from langchain_core.prompts import PromptTemplate\n",
    "import random\n",
    "\n",
    "prompt_template = PromptTemplate.from_template(\"\"\"\n",
    "You are a {persona} who visited a restaurant serving {cuisine} food for {meal}. Write a {length}-line review,\n",
    "assuming that the food was {food} and the service was {service}. Add details to make it realistic.\n",
    "\"\"\".strip())\n",
    "prompt_val = prompt_template.format(\n",
    "    persona=random.choice(persona),\n",
    "    cuisine=random.choice(cuisine),\n",
    "    meal=random.choice(meal),\n",
    "    length=random.choice(length),\n",
    "    food=random.choice(food),\n",
    "    service=random.choice(service)\n",
    ")\n",
    "prompt_val"
   ]
  },
  {
   "cell_type": "code",
   "execution_count": 19,
   "id": "0a6ecc81-cbff-4ac4-bb85-c6550763c7c9",
   "metadata": {
    "tags": []
   },
   "outputs": [
    {
     "data": {
      "text/plain": [
       "AIMessage(content='After years of MREs, this was a welcome change. The buttery croissants melted in my mouth, the coffee was rich and strong, and the omelet was fluffy perfection. The service was quick and friendly, even with the place packed.  A taste of Paris in the heart of America, and a much-needed respite from the usual greasy spoon.  Definitely coming back! \\n', response_metadata={'prompt_feedback': {'block_reason': 0, 'safety_ratings': []}, 'finish_reason': 'STOP', 'safety_ratings': [{'category': 'HARM_CATEGORY_SEXUALLY_EXPLICIT', 'probability': 'NEGLIGIBLE', 'blocked': False}, {'category': 'HARM_CATEGORY_HATE_SPEECH', 'probability': 'NEGLIGIBLE', 'blocked': False}, {'category': 'HARM_CATEGORY_HARASSMENT', 'probability': 'NEGLIGIBLE', 'blocked': False}, {'category': 'HARM_CATEGORY_DANGEROUS_CONTENT', 'probability': 'NEGLIGIBLE', 'blocked': False}]}, id='run-805f1835-8242-4870-ba15-78f8539242ff-0', usage_metadata={'input_tokens': 43, 'output_tokens': 77, 'total_tokens': 120})"
      ]
     },
     "execution_count": 19,
     "metadata": {},
     "output_type": "execute_result"
    }
   ],
   "source": [
    "response = model.invoke(prompt_val)\n",
    "response"
   ]
  },
  {
   "cell_type": "code",
   "execution_count": 20,
   "id": "e6dc8283-6a68-4621-b213-3bde21763f42",
   "metadata": {
    "tags": []
   },
   "outputs": [
    {
     "data": {
      "text/plain": [
       "'After years of MREs, this was a welcome change. The buttery croissants melted in my mouth, the coffee was rich and strong, and the omelet was fluffy perfection. The service was quick and friendly, even with the place packed.  A taste of Paris in the heart of America, and a much-needed respite from the usual greasy spoon.  Definitely coming back! \\n'"
      ]
     },
     "execution_count": 20,
     "metadata": {},
     "output_type": "execute_result"
    }
   ],
   "source": [
    "response.content"
   ]
  },
  {
   "cell_type": "code",
   "execution_count": 31,
   "id": "27903ef3-fef0-4662-a729-829ff1ad5a12",
   "metadata": {
    "tags": []
   },
   "outputs": [
    {
     "name": "stdout",
     "output_type": "stream",
     "text": [
      "1%...2%...3%...4%...5%...6%...7%...8%...9%...10%...11%...12%...13%...14%...15%...16%...17%...18%...19%...20%...21%...22%...23%...24%...25%...26%...27%...28%...29%...30%...31%...32%...33%...34%...35%...36%...37%...38%...39%...40%...41%...42%...43%...44%...45%...46%...47%...48%...49%...50%...51%...52%...53%...54%...55%...56%...57%...58%...59%...60%...61%...62%...63%...64%...65%...66%...67%...68%...69%...70%...71%...72%...73%...74%...75%...76%...77%...78%...79%...80%...81%...82%...83%...84%...85%...86%...87%...88%...89%...90%...91%...92%...93%...94%...95%...96%...97%...98%...99%...100%..."
     ]
    }
   ],
   "source": [
    "N = 1000\n",
    "batch_size = 10\n",
    "\n",
    "reviews = []\n",
    "for x in range(0, N, batch_size):\n",
    "    prompt_vals = [\n",
    "        prompt_template.format(\n",
    "            persona=random.choice(persona),\n",
    "            cuisine=random.choice(cuisine),\n",
    "            meal=random.choice(meal),\n",
    "            length=random.choice(length),\n",
    "            food=random.choice(food),\n",
    "            service=random.choice(service)\n",
    "        ) for x in range(batch_size)\n",
    "    ]\n",
    "    batch_responses = model.batch(prompt_vals)\n",
    "    reviews.extend(batch_responses)\n",
    "    print(f'{int(100*len(reviews)/N)}%', end='...', flush=True)"
   ]
  },
  {
   "cell_type": "code",
   "execution_count": 32,
   "id": "71c34472-0d04-486f-95a5-3095389dbc36",
   "metadata": {
    "tags": []
   },
   "outputs": [
    {
     "data": {
      "text/plain": [
       "1000"
      ]
     },
     "execution_count": 32,
     "metadata": {},
     "output_type": "execute_result"
    }
   ],
   "source": [
    "len(reviews)"
   ]
  },
  {
   "cell_type": "code",
   "execution_count": 34,
   "id": "64c266e3-2a54-40dd-a59c-e28964759918",
   "metadata": {
    "tags": []
   },
   "outputs": [
    {
     "data": {
      "text/plain": [
       "\"The moussaka was dry, the souvlaki bland, and the prices made my wallet weep.  The service was brisk, almost too brisk, like they were trying to get us out the door before we realized how much we'd been overcharged.  I've had better Greek food at a taverna on the beach in Mykonos, and for half the price.  Not sure I'll be back. \\n\""
      ]
     },
     "execution_count": 34,
     "metadata": {},
     "output_type": "execute_result"
    }
   ],
   "source": [
    "reviews[0].content"
   ]
  },
  {
   "cell_type": "code",
   "execution_count": 35,
   "id": "9232f0ce-78c4-4a7b-9b1b-86933b209418",
   "metadata": {
    "tags": []
   },
   "outputs": [
    {
     "data": {
      "text/plain": [
       "\"The moussaka was dry, the souvlaki bland, and the prices made my wallet weep.  The service was brisk, almost too brisk, like they were trying to get us out the door before we realized how much we'd been overcharged.  I've had better Greek food at a taverna on the beach in Mykonos, and for half the price.  Not sure I'll be back. \\n\""
      ]
     },
     "execution_count": 35,
     "metadata": {},
     "output_type": "execute_result"
    }
   ],
   "source": [
    "reviews = [review.content for review in reviews]\n",
    "reviews[0]"
   ]
  },
  {
   "cell_type": "code",
   "execution_count": 38,
   "id": "f9308695-021f-48f6-91ea-3af19757077a",
   "metadata": {
    "tags": []
   },
   "outputs": [],
   "source": [
    "import json\n",
    "with open('reviews.json', 'w') as ofp:\n",
    "    json.dump(reviews, ofp, indent=1)"
   ]
  },
  {
   "cell_type": "code",
   "execution_count": 39,
   "id": "70fc57dd-ed71-49bb-8f8b-cf0e4442ca44",
   "metadata": {
    "tags": []
   },
   "outputs": [
    {
     "name": "stdout",
     "output_type": "stream",
     "text": [
      "[\n",
      " \"The moussaka was dry, the souvlaki bland, and the prices made my wallet weep.  The service was brisk, almost too brisk, like they were trying to get us out the door before we realized how much we'd been overcharged.  I've had better Greek food at a taverna on the beach in Mykonos, and for half the price.  Not sure I'll be back. \\n\",\n",
      " \"The escargots were divine, the steak cooked to perfection, and the cr\\u00e8me br\\u00fbl\\u00e9e was a delightful ending to a truly memorable meal. The ambiance was charming, and the service was warm and attentive.  I felt like I was transported to a Parisian bistro, and I can't wait to return for another delightful evening. \\n\",\n",
      " \"The feta omelet was decent, but at 15 euros, it felt like a tourist trap. The coffee was lukewarm and the baklava, while tasty, was a measly two bites for 8 euros. The service was as warm as the coffee, with a grumpy waitress who seemed annoyed by our presence.  I'd recommend skipping this place and finding a more authentic, less expensive option.  Athens has so much to offer, and this restaurant wasn't it. \\n\",\n",
      " \"The masala dosa was a revelation, crispy and flavorful, the sambar a symphony of spices.  The chai was perfectly spiced and comforting.  But the service was glacial, leaving me with a lingering sense of frustration despite the delicious food.  I'd go back for the food, but maybe not on a weekday morning. \\n\",\n",
      " \"After years of MREs, a good breakfast burrito is a real treat. This place hit the spot. The chorizo was spicy, the eggs fluffy, and the tortillas were fresh. The service was quick and friendly, even with a full house.  I'll definitely be back for another round of huevos rancheros.  This is the kind of place that makes you feel like you're back home, even when you're far from it. \\n\",\n",
      " \"The aroma of fresh espresso and sizzling pancetta drew me in, and the friendly staff made me feel like family.  The ricotta pancakes were fluffy perfection, and the cappuccinos were strong enough to wake a tank.  This little Italian gem is a hidden treasure for breakfast, and I'll be back for more. \\n\",\n",
      " \"The pad thai was a revelation, the perfect balance of sweet, savory, and spicy. The green curry was equally delicious, with tender chicken and a rich, creamy sauce. But the service? That was a different story. It took forever to get our order in, and even longer for the food to arrive. I'm used to waiting, having served in the military, but even I was getting antsy. Still, the food was so good, I'd definitely go back, maybe on a less busy day. \\n\",\n",
      " \"The dumplings were perfectly pan-fried, the spicy Sichuan noodles were a flavor explosion, and the service was so quick I barely had time to finish my iced tea! Definitely coming back for more. \\n\",\n",
      " \"The dumplings were heavenly, the congee perfectly creamy, and the fried bread sticks were crisp and addictive.  All this, served with a side of grumpy silence from the staff.  Still, I'd go back for the food in a heartbeat.  It's worth the surly service. \\n\",\n"
     ]
    }
   ],
   "source": [
    "!head reviews.json"
   ]
  },
  {
   "cell_type": "markdown",
   "id": "41e0cff7-eb7d-46f6-8100-41398a658395",
   "metadata": {},
   "source": [
    "## Create training dataset for Vertex AI\n",
    "\n",
    "Format is\n",
    "<pre>\n",
    "{\"input_text\": \"question: How many people live in Beijing? context: With over 21 million residents, Beijing is the world's most populous national capital city and is China's second largest city after Shanghai. It is located in Northern China, and is governed as a municipality under the direct administration of the State Council with 16 urban, suburban, and rural districts.[14] Beijing is mostly surrounded by Hebei Province with the exception of neighboring Tianjin to the southeast; together, the three divisions form the Jingjinji megalopolis and the national capital region of China.\", \"output_text\": \"over 21 million people\"}\n",
    "</pre>\n",
    "We want to omit the output because we want the teacher model to generate the output and rationale."
   ]
  },
  {
   "cell_type": "code",
   "execution_count": 40,
   "id": "39a1afa4-5579-4aab-8b16-3a085597463c",
   "metadata": {
    "tags": []
   },
   "outputs": [
    {
     "data": {
      "text/plain": [
       "\"The moussaka was dry, the souvlaki bland, and the prices made my wallet weep.  The service was brisk, almost too brisk, like they were trying to get us out the door before we realized how much we'd been overcharged.  I've had better Greek food at a taverna on the beach in Mykonos, and for half the price.  Not sure I'll be back. \\n\""
      ]
     },
     "execution_count": 40,
     "metadata": {},
     "output_type": "execute_result"
    }
   ],
   "source": [
    "import json\n",
    "with open('reviews.json') as ifp:\n",
    "    reviews = json.load(ifp)\n",
    "reviews[0]"
   ]
  },
  {
   "cell_type": "code",
   "execution_count": 55,
   "id": "367095b7-4ce9-40e8-b815-0d5971d01e15",
   "metadata": {
    "tags": []
   },
   "outputs": [
    {
     "data": {
      "text/plain": [
       "{'input_text': 'Read this review and fill out the JSON structure about the restaurant.\\n    The cuisine refers to the type of food is referenced in the review? Choose one of: [\\'Mexican\\', \\'Indian\\', \\'Chinese\\', \\'Thai\\', \\'Italian\\', \\'French\\', \\'Greek\\']\\n    The rating is a number between 1 and 5. 1 is unhappy. 5 is very happy.\\n    The summary is a one-line summary of the review.\\n    \\n    ***REVIEW***\\n    The moussaka was dry, the souvlaki bland, and the prices made my wallet weep.  The service was brisk, almost too brisk, like they were trying to get us out the door before we realized how much we\\'d been overcharged.  I\\'ve had better Greek food at a taverna on the beach in Mykonos, and for half the price.  Not sure I\\'ll be back. \\n\\n    \\n    ***OUTPUT JSON***\\n    {\\n       \"cuisine\": __, \\n       \"rating\": __, \\n       \"summary\": __\\n    }'}"
      ]
     },
     "execution_count": 55,
     "metadata": {},
     "output_type": "execute_result"
    }
   ],
   "source": [
    "def create_input(review):\n",
    "    return f\"\"\"\n",
    "    Read this review and fill out the JSON structure about the restaurant.\n",
    "    The cuisine refers to the type of food is referenced in the review? Choose one of: {cuisine}\n",
    "    The rating is a number between 1 and 5. 1 is unhappy. 5 is very happy.\n",
    "    The summary is a one-line summary of the review.\n",
    "    \n",
    "    ***REVIEW***\n",
    "    {review}\n",
    "    \n",
    "    ***OUTPUT JSON***\n",
    "    {{\n",
    "       \"cuisine\": __, \n",
    "       \"rating\": __, \n",
    "       \"summary\": __\n",
    "    }}\n",
    "    \"\"\".strip()\n",
    "\n",
    "d = {\"input_text\": create_input(reviews[0])}\n",
    "d"
   ]
  },
  {
   "cell_type": "code",
   "execution_count": 57,
   "id": "19b9b9d3-8c75-4418-b0b4-0278cad1bb8d",
   "metadata": {
    "tags": []
   },
   "outputs": [
    {
     "name": "stdout",
     "output_type": "stream",
     "text": [
      "{\"input_text\": \"Read this review and fill out the JSON structure about the restaurant.\\n    The cuisine refers to the type of food is referenced in the review? Choose one of: ['Mexican', 'Indian', 'Chinese', 'Thai', 'Italian', 'French', 'Greek']\\n    The rating is a number between 1 and 5. 1 is unhappy. 5 is very happy.\\n    The summary is a one-line summary of the review.\\n    \\n    ***REVIEW***\\n    The moussaka was dry, the souvlaki bland, and the prices made my wallet weep.  The service was brisk, almost too brisk, like they were trying to get us out the door before we realized how much we'd been overcharged.  I've had better Greek food at a taverna on the beach in Mykonos, and for half the price.  Not sure I'll be back. \\n\\n    \\n    ***OUTPUT JSON***\\n    {\\n       \\\"cuisine\\\": __, \\n       \\\"rating\\\": __, \\n       \\\"summary\\\": __\\n    }\"}\n",
      "{\"input_text\": \"Read this review and fill out the JSON structure about the restaurant.\\n    The cuisine refers to the type of food is referenced in the review? Choose one of: ['Mexican', 'Indian', 'Chinese', 'Thai', 'Italian', 'French', 'Greek']\\n    The rating is a number between 1 and 5. 1 is unhappy. 5 is very happy.\\n    The summary is a one-line summary of the review.\\n    \\n    ***REVIEW***\\n    The escargots were divine, the steak cooked to perfection, and the cr\\u00e8me br\\u00fbl\\u00e9e was a delightful ending to a truly memorable meal. The ambiance was charming, and the service was warm and attentive.  I felt like I was transported to a Parisian bistro, and I can't wait to return for another delightful evening. \\n\\n    \\n    ***OUTPUT JSON***\\n    {\\n       \\\"cuisine\\\": __, \\n       \\\"rating\\\": __, \\n       \\\"summary\\\": __\\n    }\"}\n",
      "{\"input_text\": \"Read this review and fill out the JSON structure about the restaurant.\\n    The cuisine refers to the type of food is referenced in the review? Choose one of: ['Mexican', 'Indian', 'Chinese', 'Thai', 'Italian', 'French', 'Greek']\\n    The rating is a number between 1 and 5. 1 is unhappy. 5 is very happy.\\n    The summary is a one-line summary of the review.\\n    \\n    ***REVIEW***\\n    The feta omelet was decent, but at 15 euros, it felt like a tourist trap. The coffee was lukewarm and the baklava, while tasty, was a measly two bites for 8 euros. The service was as warm as the coffee, with a grumpy waitress who seemed annoyed by our presence.  I'd recommend skipping this place and finding a more authentic, less expensive option.  Athens has so much to offer, and this restaurant wasn't it. \\n\\n    \\n    ***OUTPUT JSON***\\n    {\\n       \\\"cuisine\\\": __, \\n       \\\"rating\\\": __, \\n       \\\"summary\\\": __\\n    }\"}\n"
     ]
    }
   ],
   "source": [
    "import json\n",
    "with open('distill_train.jsonl', 'w') as ofp:\n",
    "    for review in reviews:\n",
    "        d = {\"input_text\": create_input(review)}\n",
    "        json.dump(d, ofp)\n",
    "        ofp.write('\\n')\n",
    "!head -3 distill_train.jsonl"
   ]
  },
  {
   "cell_type": "code",
   "execution_count": 58,
   "id": "c3d5a12e-06f0-4de0-8cc4-2b1aefb42dda",
   "metadata": {
    "tags": []
   },
   "outputs": [
    {
     "name": "stdout",
     "output_type": "stream",
     "text": [
      "Copying file://distill_train.jsonl [Content-Type=application/octet-stream]...\n",
      "/ [1 files][826.9 KiB/826.9 KiB]                                                \n",
      "Operation completed over 1 objects/826.9 KiB.                                    \n"
     ]
    }
   ],
   "source": [
    "BUCKET=\"viz_genai_nonsensitive\"  # CHANGE THIS to be your own bucket\n",
    "REGION=\"us-central1\"\n",
    "!gsutil cp distill_train.jsonl gs://$BUCKET/"
   ]
  },
  {
   "cell_type": "markdown",
   "id": "b3db77f6-4d21-4856-a0c7-e073ddbc3062",
   "metadata": {},
   "source": [
    "## Distill"
   ]
  },
  {
   "cell_type": "code",
   "execution_count": 61,
   "id": "b2a88c76-42bb-41e5-93f6-29b81bdbf1af",
   "metadata": {
    "tags": []
   },
   "outputs": [
    {
     "name": "stdout",
     "output_type": "stream",
     "text": [
      "Creating PipelineJob\n",
      "PipelineJob created. Resource name: projects/82379820716/locations/us-central1/pipelineJobs/distillation-20240816005042\n",
      "To use this PipelineJob in another session:\n",
      "pipeline_job = aiplatform.PipelineJob.get('projects/82379820716/locations/us-central1/pipelineJobs/distillation-20240816005042')\n",
      "View Pipeline Job:\n",
      "https://console.cloud.google.com/vertex-ai/locations/us-central1/pipelines/runs/distillation-20240816005042?project=82379820716\n"
     ]
    }
   ],
   "source": [
    "import vertexai\n",
    "from vertexai.preview.language_models import TextGenerationModel, TuningEvaluationSpec\n",
    "\n",
    "vertexai.init(location=REGION)\n",
    "student_model = TextGenerationModel.from_pretrained(\"text-bison@002\")\n",
    "teacher_model = TextGenerationModel.from_pretrained(\"text-unicorn@001\")\n",
    "distillation_job = student_model.distill_from(\n",
    "        teacher_model=teacher_model,\n",
    "        dataset=f\"gs://{BUCKET}/distill_train.jsonl\",\n",
    ")"
   ]
  },
  {
   "cell_type": "code",
   "execution_count": null,
   "id": "6c76a4d5-4ef0-413a-8788-dc8e26aa3ac4",
   "metadata": {},
   "outputs": [],
   "source": []
  }
 ],
 "metadata": {
  "environment": {
   "kernel": "conda-base-py",
   "name": "workbench-notebooks.m120",
   "type": "gcloud",
   "uri": "us-docker.pkg.dev/deeplearning-platform-release/gcr.io/workbench-notebooks:m120"
  },
  "kernelspec": {
   "display_name": "Python 3 (ipykernel)",
   "language": "python",
   "name": "conda-base-py"
  },
  "language_info": {
   "codemirror_mode": {
    "name": "ipython",
    "version": 3
   },
   "file_extension": ".py",
   "mimetype": "text/x-python",
   "name": "python",
   "nbconvert_exporter": "python",
   "pygments_lexer": "ipython3",
   "version": "3.10.14"
  }
 },
 "nbformat": 4,
 "nbformat_minor": 5
}

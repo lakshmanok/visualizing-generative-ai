{
 "cells": [
  {
   "cell_type": "markdown",
   "id": "d2425ad3-aabf-4af9-97e0-20aa2961611c",
   "metadata": {},
   "source": [
    "# Querying Structured Data\n",
    "\n",
    "This notebook shows you how to build an agent that can answer questions based on structured data.\n",
    "We take a CSV file, load it into a SQL-Lite database and then answer questions.\n",
    "Of course, if you have a database, run the SQL on it directly."
   ]
  },
  {
   "cell_type": "markdown",
   "id": "92b59d7f-9a38-48ea-98ac-0f5099c2bab6",
   "metadata": {},
   "source": [
    "## Set up.\n",
    "\n",
    "Install the necessary packages, set up the API keys etc."
   ]
  },
  {
   "cell_type": "code",
   "execution_count": 1,
   "id": "432f556f-e1ac-4cc4-b928-b45b25c5a0bd",
   "metadata": {},
   "outputs": [],
   "source": [
    "#%pip install --quiet -r requirements.txt"
   ]
  },
  {
   "cell_type": "code",
   "execution_count": 1,
   "id": "ddcb575b-9f6f-407b-9680-0f2ed2dabf0d",
   "metadata": {
    "tags": []
   },
   "outputs": [],
   "source": [
    "from dotenv import load_dotenv\n",
    "load_dotenv(\"../keys.env\");\n",
    "\n",
    "PROVIDER = \"Google\"\n",
    "#PROVIDER = \"OpenAI\"\n",
    "\n",
    "if PROVIDER == \"Google\":\n",
    "    from langchain_google_genai import ChatGoogleGenerativeAI, GoogleGenerativeAIEmbeddings\n",
    "    model = ChatGoogleGenerativeAI(model=\"gemini-1.5-flash\", temperature=0.1)\n",
    "else:\n",
    "    from langchain_openai import ChatOpenAI, OpenAIEmbeddings\n",
    "    model = ChatOpenAI(model_name=\"gpt-3.5-turbo\", temperature=0.1)"
   ]
  },
  {
   "cell_type": "markdown",
   "id": "a23ffee4-704b-4a01-8e74-8e7966cf6195",
   "metadata": {
    "tags": []
   },
   "source": [
    "## Download data about popular baby names\n",
    "\n",
    "Download names data from the US Social Security administration and extract it to a CSV file"
   ]
  },
  {
   "cell_type": "code",
   "execution_count": 2,
   "id": "b7430285-a69d-48e4-8e31-800e634e97c1",
   "metadata": {
    "tags": []
   },
   "outputs": [
    {
     "name": "stdout",
     "output_type": "stream",
     "text": [
      "using already downloaded names_all_years.csv\n"
     ]
    }
   ],
   "source": [
    "import zipfile, io, os\n",
    "\n",
    "def concatenate_text_from_zip(zip_filename, output_filename):\n",
    "    with zipfile.ZipFile(zip_filename, 'r') as zip_file:\n",
    "        text_files = [name for name in zip_file.namelist() if name.endswith('.txt')]  # Identify text files\n",
    "        with open(output_filename, 'w', encoding='utf-8') as output_file:\n",
    "            output_file.write(\"name,gender,count,year\\n\")\n",
    "            for filename in text_files:\n",
    "                yob = filename.replace('yob','').replace('.txt','') # yob1979.txt -> 1979\n",
    "                with zip_file.open(filename, 'r') as file:\n",
    "                    for line in io.TextIOWrapper(file, 'utf-8'):\n",
    "                        line = f\"{line.strip()},{yob}\\n\"\n",
    "                        output_file.write(line)\n",
    "\n",
    "if os.path.isfile('names_all_years.csv'):\n",
    "    print(\"using already downloaded names_all_years.csv\")\n",
    "else:\n",
    "    !wget --quiet https://www.ssa.gov/oact/babynames/names.zip                        \n",
    "    concatenate_text_from_zip(\"names.zip\", \"names_all_years.csv\")"
   ]
  },
  {
   "cell_type": "code",
   "execution_count": 3,
   "id": "b3e453f8-553d-4dbe-83fc-517cf6669abd",
   "metadata": {
    "tags": []
   },
   "outputs": [
    {
     "name": "stdout",
     "output_type": "stream",
     "text": [
      "name,gender,count,year\n",
      "Mary,F,7065,1880\n",
      "Anna,F,2604,1880\n",
      "Emma,F,2003,1880\n",
      "Elizabeth,F,1939,1880\n",
      "Minnie,F,1746,1880\n",
      "Margaret,F,1578,1880\n",
      "Ida,F,1472,1880\n",
      "Alice,F,1414,1880\n",
      "Bertha,F,1320,1880\n"
     ]
    }
   ],
   "source": [
    "!head names_all_years.csv"
   ]
  },
  {
   "cell_type": "markdown",
   "id": "3826cf87-021e-40ec-bedb-4e4f0a7ba079",
   "metadata": {},
   "source": [
    "## Load the data into a SQL Lite database\n",
    "\n",
    "This way, we can use SQL on the data."
   ]
  },
  {
   "cell_type": "code",
   "execution_count": 4,
   "id": "ca700633-2fa6-4bd7-b63e-4d1cc1b15e8f",
   "metadata": {
    "tags": []
   },
   "outputs": [
    {
     "data": {
      "text/html": [
       "<div>\n",
       "<style scoped>\n",
       "    .dataframe tbody tr th:only-of-type {\n",
       "        vertical-align: middle;\n",
       "    }\n",
       "\n",
       "    .dataframe tbody tr th {\n",
       "        vertical-align: top;\n",
       "    }\n",
       "\n",
       "    .dataframe thead th {\n",
       "        text-align: right;\n",
       "    }\n",
       "</style>\n",
       "<table border=\"1\" class=\"dataframe\">\n",
       "  <thead>\n",
       "    <tr style=\"text-align: right;\">\n",
       "      <th></th>\n",
       "      <th>name</th>\n",
       "      <th>gender</th>\n",
       "      <th>count</th>\n",
       "      <th>year</th>\n",
       "    </tr>\n",
       "  </thead>\n",
       "  <tbody>\n",
       "    <tr>\n",
       "      <th>0</th>\n",
       "      <td>Mary</td>\n",
       "      <td>F</td>\n",
       "      <td>7065</td>\n",
       "      <td>1880</td>\n",
       "    </tr>\n",
       "    <tr>\n",
       "      <th>1</th>\n",
       "      <td>Anna</td>\n",
       "      <td>F</td>\n",
       "      <td>2604</td>\n",
       "      <td>1880</td>\n",
       "    </tr>\n",
       "    <tr>\n",
       "      <th>2</th>\n",
       "      <td>Emma</td>\n",
       "      <td>F</td>\n",
       "      <td>2003</td>\n",
       "      <td>1880</td>\n",
       "    </tr>\n",
       "    <tr>\n",
       "      <th>3</th>\n",
       "      <td>Elizabeth</td>\n",
       "      <td>F</td>\n",
       "      <td>1939</td>\n",
       "      <td>1880</td>\n",
       "    </tr>\n",
       "    <tr>\n",
       "      <th>4</th>\n",
       "      <td>Minnie</td>\n",
       "      <td>F</td>\n",
       "      <td>1746</td>\n",
       "      <td>1880</td>\n",
       "    </tr>\n",
       "  </tbody>\n",
       "</table>\n",
       "</div>"
      ],
      "text/plain": [
       "        name gender  count  year\n",
       "0       Mary      F   7065  1880\n",
       "1       Anna      F   2604  1880\n",
       "2       Emma      F   2003  1880\n",
       "3  Elizabeth      F   1939  1880\n",
       "4     Minnie      F   1746  1880"
      ]
     },
     "execution_count": 4,
     "metadata": {},
     "output_type": "execute_result"
    }
   ],
   "source": [
    "from langchain_community.utilities import SQLDatabase\n",
    "from sqlalchemy import create_engine\n",
    "import pandas as pd\n",
    "\n",
    "df = pd.read_csv(\"names_all_years.csv\")\n",
    "df.head()"
   ]
  },
  {
   "cell_type": "code",
   "execution_count": 5,
   "id": "ea9b1ab1-f547-4204-809e-4f1046360bfa",
   "metadata": {
    "tags": []
   },
   "outputs": [
    {
     "data": {
      "text/plain": [
       "2117219"
      ]
     },
     "execution_count": 5,
     "metadata": {},
     "output_type": "execute_result"
    }
   ],
   "source": [
    "engine = create_engine(\"sqlite:///names.db\")\n",
    "df.to_sql(\"names\", engine, index=False, if_exists='replace')"
   ]
  },
  {
   "cell_type": "markdown",
   "id": "cb155865-1620-4044-99f1-14911864e48e",
   "metadata": {},
   "source": [
    "Example of querying the data.  Let's find names in 1999 given to more than 20k babies."
   ]
  },
  {
   "cell_type": "code",
   "execution_count": 6,
   "id": "50107ab9-a2fc-4e4e-ad10-d48e98e77a4d",
   "metadata": {
    "tags": []
   },
   "outputs": [
    {
     "name": "stdout",
     "output_type": "stream",
     "text": [
      "[('Emily', 'F', 26541), ('Hannah', 'F', 21679), ('Jacob', 'M', 35370), ('Michael', 'M', 33913), ('Matthew', 'M', 30418), ('Joshua', 'M', 27261), ('Nicholas', 'M', 25639), ('Christopher', 'M', 25605), ('Andrew', 'M', 23864), ('Joseph', 'M', 23218), ('Daniel', 'M', 22704), ('Tyler', 'M', 22667), ('Brandon', 'M', 21602), ('Ryan', 'M', 21013), ('Austin', 'M', 20767), ('William', 'M', 20716), ('John', 'M', 20365), ('David', 'M', 20352)]\n"
     ]
    }
   ],
   "source": [
    "db = SQLDatabase(engine=engine)\n",
    "print(db.run(\"SELECT name, gender, count FROM names WHERE count > 20000 AND year == 1999;\"))"
   ]
  },
  {
   "cell_type": "markdown",
   "id": "c7e7b500-f70a-4c91-ab64-d36cec244417",
   "metadata": {
    "tags": []
   },
   "source": [
    "## Natural language to SQL"
   ]
  },
  {
   "cell_type": "code",
   "execution_count": 7,
   "id": "54753742-1870-4454-8dd8-b7bac389c27e",
   "metadata": {
    "tags": []
   },
   "outputs": [
    {
     "name": "stderr",
     "output_type": "stream",
     "text": [
      "Key 'title' is not supported in schema, ignoring\n",
      "Key 'title' is not supported in schema, ignoring\n",
      "Key 'title' is not supported in schema, ignoring\n",
      "Key 'title' is not supported in schema, ignoring\n",
      "Key 'title' is not supported in schema, ignoring\n",
      "Key 'title' is not supported in schema, ignoring\n",
      "Key 'default' is not supported in schema, ignoring\n",
      "Key 'title' is not supported in schema, ignoring\n",
      "Key 'title' is not supported in schema, ignoring\n"
     ]
    }
   ],
   "source": [
    "from langchain_community.agent_toolkits import create_sql_agent\n",
    "\n",
    "agent_executor = create_sql_agent(model, db=db, agent_type=\"tool-calling\", verbose=True)"
   ]
  },
  {
   "cell_type": "code",
   "execution_count": 8,
   "id": "560129a8-2575-49a1-a3ca-2dbad1edbf07",
   "metadata": {
    "tags": []
   },
   "outputs": [
    {
     "name": "stdout",
     "output_type": "stream",
     "text": [
      "\n",
      "\n",
      "\u001b[1m> Entering new SQL Agent Executor chain...\u001b[0m\n",
      "\u001b[32;1m\u001b[1;3m\n",
      "Invoking: `sql_db_list_tables` with `{'tool_input': ''}`\n",
      "\n",
      "\n",
      "\u001b[0m\u001b[38;5;200m\u001b[1;3mnames\u001b[0m\u001b[32;1m\u001b[1;3m\n",
      "Invoking: `sql_db_schema` with `{'table_names': 'names'}`\n",
      "\n",
      "\n",
      "\u001b[0m\u001b[33;1m\u001b[1;3m\n",
      "CREATE TABLE names (\n",
      "\tname TEXT, \n",
      "\tgender TEXT, \n",
      "\tcount BIGINT, \n",
      "\tyear BIGINT\n",
      ")\n",
      "\n",
      "/*\n",
      "3 rows from names table:\n",
      "name\tgender\tcount\tyear\n",
      "Mary\tF\t7065\t1880\n",
      "Anna\tF\t2604\t1880\n",
      "Emma\tF\t2003\t1880\n",
      "*/\u001b[0m\u001b[32;1m\u001b[1;3m\n",
      "Invoking: `sql_db_query_checker` with `{'query': 'SELECT name FROM names WHERE year == 1999 AND gender == \"F\" ORDER BY count DESC LIMIT 1'}`\n",
      "\n",
      "\n",
      "\u001b[0m\u001b[36;1m\u001b[1;3m```sqlite\n",
      "SELECT name FROM names WHERE year = 1999 AND gender = 'F' ORDER BY count DESC LIMIT 1\n",
      "```\u001b[0m\u001b[32;1m\u001b[1;3m\n",
      "Invoking: `sql_db_query` with `{'query': 'SELECT name FROM names WHERE year == 1999 AND gender == \\\\\"F\\\\\" ORDER BY count DESC LIMIT 1'}`\n",
      "\n",
      "\n",
      "\u001b[0m\u001b[36;1m\u001b[1;3mError: (sqlite3.OperationalError) unrecognized token: \"\\\"\n",
      "[SQL: SELECT name FROM names WHERE year == 1999 AND gender == \\\"F\\\" ORDER BY count DESC LIMIT 1]\n",
      "(Background on this error at: https://sqlalche.me/e/20/e3q8)\u001b[0m\u001b[32;1m\u001b[1;3m\n",
      "Invoking: `sql_db_query_checker` with `{'query': \"SELECT name FROM names WHERE year == 1999 AND gender == 'F' ORDER BY count DESC LIMIT 1\"}`\n",
      "\n",
      "\n",
      "\u001b[0m\u001b[36;1m\u001b[1;3m```sql\n",
      "SELECT name FROM names WHERE year = 1999 AND gender = 'F' ORDER BY count DESC LIMIT 1\n",
      "```\u001b[0m\u001b[32;1m\u001b[1;3m\n",
      "Invoking: `sql_db_query` with `{'query': \"SELECT name FROM names WHERE year == 1999 AND gender == 'F' ORDER BY count DESC LIMIT 1\"}`\n",
      "\n",
      "\n",
      "\u001b[0m\u001b[36;1m\u001b[1;3m[('Emily',)]\u001b[0m\u001b[32;1m\u001b[1;3mThe most popular name for girls in 1999 was Emily.\u001b[0m\n",
      "\n",
      "\u001b[1m> Finished chain.\u001b[0m\n"
     ]
    },
    {
     "data": {
      "text/plain": [
       "{'input': 'what was the most popular name for girls in 1999?',\n",
       " 'output': 'The most popular name for girls in 1999 was Emily.'}"
      ]
     },
     "execution_count": 8,
     "metadata": {},
     "output_type": "execute_result"
    }
   ],
   "source": [
    "agent_executor.invoke({\"input\": \"what was the most popular name for girls in 1999?\"})"
   ]
  },
  {
   "cell_type": "markdown",
   "id": "ac13a5fb-211b-48bd-9865-c58b08a204b6",
   "metadata": {},
   "source": [
    "## Fixing logic errors\n"
   ]
  },
  {
   "cell_type": "code",
   "execution_count": 9,
   "id": "725f6b95-8bab-4335-8369-287837e9c2c8",
   "metadata": {
    "tags": []
   },
   "outputs": [
    {
     "name": "stdout",
     "output_type": "stream",
     "text": [
      "\n",
      "\n",
      "\u001b[1m> Entering new SQL Agent Executor chain...\u001b[0m\n",
      "\u001b[32;1m\u001b[1;3m\n",
      "Invoking: `sql_db_list_tables` with `{'tool_input': ''}`\n",
      "\n",
      "\n",
      "\u001b[0m\u001b[38;5;200m\u001b[1;3mnames\u001b[0m\u001b[32;1m\u001b[1;3m\n",
      "Invoking: `sql_db_schema` with `{'table_names': 'names'}`\n",
      "\n",
      "\n",
      "\u001b[0m\u001b[33;1m\u001b[1;3m\n",
      "CREATE TABLE names (\n",
      "\tname TEXT, \n",
      "\tgender TEXT, \n",
      "\tcount BIGINT, \n",
      "\tyear BIGINT\n",
      ")\n",
      "\n",
      "/*\n",
      "3 rows from names table:\n",
      "name\tgender\tcount\tyear\n",
      "Mary\tF\t7065\t1880\n",
      "Anna\tF\t2604\t1880\n",
      "Emma\tF\t2003\t1880\n",
      "*/\u001b[0m\u001b[32;1m\u001b[1;3m\n",
      "Invoking: `sql_db_query_checker` with `{'query': 'SELECT name FROM names WHERE year BETWEEN 1950 AND 1959 AND gender = \"M\" ORDER BY count DESC LIMIT 1'}`\n",
      "\n",
      "\n",
      "\u001b[0m\u001b[36;1m\u001b[1;3m```sql\n",
      "SELECT name FROM names WHERE year BETWEEN 1950 AND 1959 AND gender = 'M' ORDER BY count DESC LIMIT 1\n",
      "```\u001b[0m\u001b[32;1m\u001b[1;3m\n",
      "Invoking: `sql_db_query` with `{'query': 'SELECT name FROM names WHERE year BETWEEN 1950 AND 1959 AND gender = \\\\\"M\\\\\" ORDER BY count DESC LIMIT 1'}`\n",
      "\n",
      "\n",
      "\u001b[0m\u001b[36;1m\u001b[1;3mError: (sqlite3.OperationalError) unrecognized token: \"\\\"\n",
      "[SQL: SELECT name FROM names WHERE year BETWEEN 1950 AND 1959 AND gender = \\\"M\\\" ORDER BY count DESC LIMIT 1]\n",
      "(Background on this error at: https://sqlalche.me/e/20/e3q8)\u001b[0m\u001b[32;1m\u001b[1;3m\n",
      "Invoking: `sql_db_query_checker` with `{'query': \"SELECT name FROM names WHERE year BETWEEN 1950 AND 1959 AND gender = 'M' ORDER BY count DESC LIMIT 1\"}`\n",
      "\n",
      "\n",
      "\u001b[0m\u001b[36;1m\u001b[1;3m```sql\n",
      "SELECT name FROM names WHERE year BETWEEN 1950 AND 1959 AND gender = 'M' ORDER BY count DESC LIMIT 1\n",
      "```\u001b[0m\u001b[32;1m\u001b[1;3m\n",
      "Invoking: `sql_db_query` with `{'query': \"SELECT name FROM names WHERE year BETWEEN 1950 AND 1959 AND gender = 'M' ORDER BY count DESC LIMIT 1\"}`\n",
      "\n",
      "\n",
      "\u001b[0m\u001b[36;1m\u001b[1;3m[('Michael',)]\u001b[0m\u001b[32;1m\u001b[1;3mThe most popular male name in the 1950s was Michael. \n",
      "\u001b[0m\n",
      "\n",
      "\u001b[1m> Finished chain.\u001b[0m\n"
     ]
    },
    {
     "data": {
      "text/plain": [
       "{'input': 'what was the most popular male name in the 1950s?',\n",
       " 'output': 'The most popular male name in the 1950s was Michael. \\n'}"
      ]
     },
     "execution_count": 9,
     "metadata": {},
     "output_type": "execute_result"
    }
   ],
   "source": [
    "agent_executor.invoke({\"input\": \"what was the most popular male name in the 1950s?\"})"
   ]
  },
  {
   "cell_type": "markdown",
   "id": "ab5fc84a-2682-44a0-ac1f-8e89c6b5feac",
   "metadata": {},
   "source": [
    "This is wrong. The generated SQL query returns the most popular name in any single year whereas we want to the most popular name oer the entire time period. This is because the name of the column \"count\" is quite ambigous. Let's see how we can fix it ..."
   ]
  },
  {
   "cell_type": "markdown",
   "id": "db0abada-c457-4d0e-967a-3e36ced4e88b",
   "metadata": {},
   "source": [
    "### Fix by adding a schema description"
   ]
  },
  {
   "cell_type": "code",
   "execution_count": 10,
   "id": "bafd1a7d-7097-470d-96ac-991595a57780",
   "metadata": {
    "tags": []
   },
   "outputs": [
    {
     "name": "stdout",
     "output_type": "stream",
     "text": [
      "\n",
      "CREATE TABLE names (\n",
      "\tname TEXT, \n",
      "\tgender TEXT, \n",
      "\tcount BIGINT, \n",
      "\tyear BIGINT\n",
      ")\n",
      "\n",
      "/*\n",
      "3 rows from names table:\n",
      "name\tgender\tcount\tyear\n",
      "Mary\tF\t7065\t1880\n",
      "Anna\tF\t2604\t1880\n",
      "Emma\tF\t2003\t1880\n",
      "*/\n"
     ]
    }
   ],
   "source": [
    "print(db.get_context()['table_info'])"
   ]
  },
  {
   "cell_type": "code",
   "execution_count": 11,
   "id": "089c4d8b-79f6-4541-a15a-4cc540f3d265",
   "metadata": {
    "tags": []
   },
   "outputs": [
    {
     "data": {
      "text/html": [
       "<div>\n",
       "<style scoped>\n",
       "    .dataframe tbody tr th:only-of-type {\n",
       "        vertical-align: middle;\n",
       "    }\n",
       "\n",
       "    .dataframe tbody tr th {\n",
       "        vertical-align: top;\n",
       "    }\n",
       "\n",
       "    .dataframe thead th {\n",
       "        text-align: right;\n",
       "    }\n",
       "</style>\n",
       "<table border=\"1\" class=\"dataframe\">\n",
       "  <thead>\n",
       "    <tr style=\"text-align: right;\">\n",
       "      <th></th>\n",
       "      <th>name</th>\n",
       "      <th>gender</th>\n",
       "      <th>count</th>\n",
       "      <th>year</th>\n",
       "    </tr>\n",
       "  </thead>\n",
       "  <tbody>\n",
       "    <tr>\n",
       "      <th>0</th>\n",
       "      <td>Mary</td>\n",
       "      <td>F</td>\n",
       "      <td>7065</td>\n",
       "      <td>1880</td>\n",
       "    </tr>\n",
       "    <tr>\n",
       "      <th>1</th>\n",
       "      <td>Anna</td>\n",
       "      <td>F</td>\n",
       "      <td>2604</td>\n",
       "      <td>1880</td>\n",
       "    </tr>\n",
       "    <tr>\n",
       "      <th>2</th>\n",
       "      <td>Emma</td>\n",
       "      <td>F</td>\n",
       "      <td>2003</td>\n",
       "      <td>1880</td>\n",
       "    </tr>\n",
       "    <tr>\n",
       "      <th>3</th>\n",
       "      <td>Elizabeth</td>\n",
       "      <td>F</td>\n",
       "      <td>1939</td>\n",
       "      <td>1880</td>\n",
       "    </tr>\n",
       "    <tr>\n",
       "      <th>4</th>\n",
       "      <td>Minnie</td>\n",
       "      <td>F</td>\n",
       "      <td>1746</td>\n",
       "      <td>1880</td>\n",
       "    </tr>\n",
       "  </tbody>\n",
       "</table>\n",
       "</div>"
      ],
      "text/plain": [
       "        name gender  count  year\n",
       "0       Mary      F   7065  1880\n",
       "1       Anna      F   2604  1880\n",
       "2       Emma      F   2003  1880\n",
       "3  Elizabeth      F   1939  1880\n",
       "4     Minnie      F   1746  1880"
      ]
     },
     "execution_count": 11,
     "metadata": {},
     "output_type": "execute_result"
    }
   ],
   "source": [
    "df.head()"
   ]
  },
  {
   "cell_type": "code",
   "execution_count": 21,
   "id": "2e794036-755d-4bbd-937f-cb2737073954",
   "metadata": {
    "tags": []
   },
   "outputs": [
    {
     "name": "stdout",
     "output_type": "stream",
     "text": [
      "\n",
      "CREATE TABLE names (\n",
      "\tname VARCHAR(32) NOT NULL, \n",
      "\tgender VARCHAR(1) NOT NULL, \n",
      "\tyear INTEGER NOT NULL, \n",
      "\tnum_babies_with_name_in_year INTEGER NOT NULL\n",
      ")\n",
      "\n",
      "/*\n",
      "3 rows from names table:\n",
      "name\tgender\tyear\tnum_babies_with_name_in_year\n",
      "Mary\tF\t1880\t7065\n",
      "Anna\tF\t1880\t2604\n",
      "Emma\tF\t1880\t2003\n",
      "*/\n"
     ]
    }
   ],
   "source": [
    "import sqlalchemy\n",
    "from langchain_community.utilities import SQLDatabase\n",
    "\n",
    "metadata = sqlalchemy.MetaData()\n",
    "name_table = sqlalchemy.Table(\n",
    "    'names', metadata,\n",
    "    sqlalchemy.Column('name', sqlalchemy.String(32), nullable=False, comment='first name of baby'),\n",
    "    sqlalchemy.Column('gender', sqlalchemy.String(1), nullable=False, comment='gender of baby: male (M) or female (F)'),\n",
    "    sqlalchemy.Column('year', sqlalchemy.Integer, nullable=False, comment='year of birth'),\n",
    "    sqlalchemy.Column('num_babies_with_name_in_year', sqlalchemy.Integer, nullable=False, comment='Number of babies with this name and gender in this year')\n",
    ")\n",
    "engine = sqlalchemy.create_engine(\"sqlite:///names.db\")\n",
    "name_table.drop(engine, checkfirst=False)\n",
    "metadata.create_all(engine)\n",
    "df2 = df.rename(columns={'count': 'num_babies_with_name_in_year'})\n",
    "df2.to_sql(\"names\", engine, index=False, if_exists='append')\n",
    "db = SQLDatabase(engine=engine)\n",
    "print(db.get_context()['table_info'])"
   ]
  },
  {
   "cell_type": "code",
   "execution_count": 22,
   "id": "1f3b2923-6834-4748-abed-f890d305f9ff",
   "metadata": {
    "tags": []
   },
   "outputs": [
    {
     "name": "stdout",
     "output_type": "stream",
     "text": [
      "[(2117219,)]\n"
     ]
    }
   ],
   "source": [
    "print(db.run(\"SELECT COUNT(*) from NAMES;\"))"
   ]
  },
  {
   "cell_type": "code",
   "execution_count": 24,
   "id": "b466e0be-b1cf-4c53-8984-8614eea1654c",
   "metadata": {
    "tags": []
   },
   "outputs": [
    {
     "name": "stderr",
     "output_type": "stream",
     "text": [
      "Key 'title' is not supported in schema, ignoring\n",
      "Key 'title' is not supported in schema, ignoring\n",
      "Key 'title' is not supported in schema, ignoring\n",
      "Key 'title' is not supported in schema, ignoring\n",
      "Key 'title' is not supported in schema, ignoring\n",
      "Key 'title' is not supported in schema, ignoring\n",
      "Key 'default' is not supported in schema, ignoring\n",
      "Key 'title' is not supported in schema, ignoring\n",
      "Key 'title' is not supported in schema, ignoring\n"
     ]
    },
    {
     "name": "stdout",
     "output_type": "stream",
     "text": [
      "\n",
      "\n",
      "\u001b[1m> Entering new SQL Agent Executor chain...\u001b[0m\n",
      "\u001b[32;1m\u001b[1;3m\n",
      "Invoking: `sql_db_list_tables` with `{'tool_input': ''}`\n",
      "\n",
      "\n",
      "\u001b[0m\u001b[38;5;200m\u001b[1;3mnames\u001b[0m\u001b[32;1m\u001b[1;3m\n",
      "Invoking: `sql_db_schema` with `{'table_names': 'names'}`\n",
      "\n",
      "\n",
      "\u001b[0m\u001b[33;1m\u001b[1;3m\n",
      "CREATE TABLE names (\n",
      "\tname VARCHAR(32) NOT NULL, \n",
      "\tgender VARCHAR(1) NOT NULL, \n",
      "\tyear INTEGER NOT NULL, \n",
      "\tnum_babies_with_name_in_year INTEGER NOT NULL\n",
      ")\n",
      "\n",
      "/*\n",
      "3 rows from names table:\n",
      "name\tgender\tyear\tnum_babies_with_name_in_year\n",
      "Mary\tF\t1880\t7065\n",
      "Anna\tF\t1880\t2604\n",
      "Emma\tF\t1880\t2003\n",
      "*/\u001b[0m\u001b[32;1m\u001b[1;3m\n",
      "Invoking: `sql_db_query` with `{'query': 'SELECT name FROM names WHERE year BETWEEN 1950 AND 1959 AND gender = \"M\" ORDER BY num_babies_with_name_in_year DESC LIMIT 1'}`\n",
      "\n",
      "\n",
      "\u001b[0m\u001b[36;1m\u001b[1;3m[('Michael',)]\u001b[0m\u001b[32;1m\u001b[1;3mThe most popular male name in the 1950s was Michael. \n",
      "\u001b[0m\n",
      "\n",
      "\u001b[1m> Finished chain.\u001b[0m\n"
     ]
    },
    {
     "data": {
      "text/plain": [
       "{'input': 'what was the most popular male name in the 1950s?',\n",
       " 'output': 'The most popular male name in the 1950s was Michael. \\n'}"
      ]
     },
     "execution_count": 24,
     "metadata": {},
     "output_type": "execute_result"
    }
   ],
   "source": [
    "agent_executor = create_sql_agent(model, db=db, agent_type=\"tool-calling\", verbose=True)\n",
    "agent_executor.invoke(input={\"input\": \"what was the most popular male name in the 1950s?\"})"
   ]
  },
  {
   "cell_type": "markdown",
   "id": "904c7249-106d-4198-aae8-461226743f62",
   "metadata": {},
   "source": [
    "doesn't help ..."
   ]
  },
  {
   "cell_type": "markdown",
   "id": "aadf08b8-22b1-4d38-95af-a1c67e75156b",
   "metadata": {
    "tags": []
   },
   "source": [
    "## Few shot prompting"
   ]
  },
  {
   "cell_type": "code",
   "execution_count": 27,
   "id": "4f36a7a2-4ab0-44b9-a35a-e86ce3979845",
   "metadata": {
    "tags": []
   },
   "outputs": [
    {
     "name": "stdout",
     "output_type": "stream",
     "text": [
      "\n",
      "CREATE TABLE names (\n",
      "\tname TEXT, \n",
      "\tgender TEXT, \n",
      "\tcount BIGINT, \n",
      "\tyear BIGINT\n",
      ")\n",
      "\n",
      "/*\n",
      "3 rows from names table:\n",
      "name\tgender\tcount\tyear\n",
      "Mary\tF\t7065\t1880\n",
      "Anna\tF\t2604\t1880\n",
      "Emma\tF\t2003\t1880\n",
      "*/\n"
     ]
    }
   ],
   "source": [
    "import sqlalchemy\n",
    "from langchain_community.utilities import SQLDatabase\n",
    "\n",
    "engine = sqlalchemy.create_engine(\"sqlite:///names.db\")\n",
    "df.to_sql(\"names\", engine, index=False, if_exists='replace')\n",
    "db = SQLDatabase(engine=engine)\n",
    "print(db.get_context()['table_info'])"
   ]
  },
  {
   "cell_type": "code",
   "execution_count": 44,
   "id": "8814db81-0f1e-4fbd-b29e-966e4decf4ad",
   "metadata": {
    "tags": []
   },
   "outputs": [],
   "source": [
    "examples = [\n",
    "    {\n",
    "        \"input\": \"how many babies named Michael were born in 1970?\",\n",
    "        \"query\": \"SELECT count FROM names WHERE name = 'Michael'\"\n",
    "    },\n",
    "    {\n",
    "        \"input\": \"how many babies named Michael were born between 1970 and 1973?\",\n",
    "        \"query\": \"SELECT SUM(count) AS count FROM names WHERE name = 'Michael' AND year BETWEEN 1970 AND 1973\"\n",
    "    },\n",
    "    {\n",
    "        \"input\": \"What was the most popular name in 1970?\",\n",
    "        \"query\": \"SELECT name FROM names WHERE year = 1970 ORDER BY count DESC 1\"\n",
    "    },\n",
    "    {\n",
    "        \"input\": \"What was the most popular name between 1970 and 1973?\",\n",
    "        \"query\": \"WITH names_for_years AS (SELECT name, gender, SUM(count) AS count FROM names WHERE year BETWEEN 1970 AND 1973 GROUP BY name, gender) SELECT name FROM names_for_years ORDER BY count DESC 1\"\n",
    "    },    \n",
    "]\n",
    "from langchain_core.prompts import FewShotPromptTemplate, PromptTemplate, ChatPromptTemplate, SystemMessagePromptTemplate, MessagesPlaceholder\n",
    "\n",
    "example_prompt = PromptTemplate.from_template(\"User input: {input}\\nSQL query: {query}\")\n",
    "prompt = FewShotPromptTemplate(\n",
    "    examples=examples,\n",
    "    example_prompt=example_prompt,\n",
    "    prefix=\"You are a SQLite expert. Given an input question, create a syntactically correct SQLite query to run. Unless otherwise specificed, do not return more than {top_k} rows.\\n\\nHere is the relevant table info: {table_info}\\n\\nBelow are a number of examples of questions and their corresponding SQL queries.\",\n",
    "    suffix=\"User input: {input}\\nSQL query: \",\n",
    "    input_variables=[\"input\", \"top_k\", \"table_info\"],\n",
    ")\n",
    "full_prompt = ChatPromptTemplate.from_messages(\n",
    "    [\n",
    "        SystemMessagePromptTemplate(prompt=prompt),\n",
    "        (\"human\", \"{input}\"),\n",
    "        MessagesPlaceholder(\"agent_scratchpad\"),\n",
    "    ]\n",
    ")"
   ]
  },
  {
   "cell_type": "code",
   "execution_count": 45,
   "id": "8fde179a-7a0e-41e0-948b-8b2874be2989",
   "metadata": {
    "tags": []
   },
   "outputs": [
    {
     "name": "stderr",
     "output_type": "stream",
     "text": [
      "Key 'title' is not supported in schema, ignoring\n",
      "Key 'title' is not supported in schema, ignoring\n",
      "Key 'title' is not supported in schema, ignoring\n",
      "Key 'title' is not supported in schema, ignoring\n",
      "Key 'default' is not supported in schema, ignoring\n",
      "Key 'title' is not supported in schema, ignoring\n",
      "Key 'title' is not supported in schema, ignoring\n"
     ]
    },
    {
     "name": "stdout",
     "output_type": "stream",
     "text": [
      "\n",
      "\n",
      "\u001b[1m> Entering new SQL Agent Executor chain...\u001b[0m\n",
      "\u001b[32;1m\u001b[1;3m\n",
      "Invoking: `sql_db_query` with `{'query': 'WITH names_for_years AS (SELECT name, gender, SUM(count) AS count FROM names WHERE year BETWEEN 1950 AND 1959 GROUP BY name, gender) SELECT name FROM names_for_years WHERE gender = \"M\" ORDER BY count DESC LIMIT 1'}`\n",
      "\n",
      "\n",
      "\u001b[0m\u001b[36;1m\u001b[1;3m[('James',)]\u001b[0m\u001b[32;1m\u001b[1;3mThe most popular male name in the 1950s was James. \n",
      "\u001b[0m\n",
      "\n",
      "\u001b[1m> Finished chain.\u001b[0m\n"
     ]
    },
    {
     "data": {
      "text/plain": [
       "{'input': 'what was the most popular male name in the 1950s?',\n",
       " 'output': 'The most popular male name in the 1950s was James. \\n'}"
      ]
     },
     "execution_count": 45,
     "metadata": {},
     "output_type": "execute_result"
    }
   ],
   "source": [
    "agent_executor = create_sql_agent(model, db=db, prompt=full_prompt, agent_type=\"tool-calling\", verbose=True)\n",
    "agent_executor.invoke(\n",
    "    input={\"input\": \"what was the most popular male name in the 1950s?\"},\n",
    "    \n",
    ")"
   ]
  },
  {
   "cell_type": "markdown",
   "id": "9edb5a4a-366b-4427-8e3d-aac19b01d1f5",
   "metadata": {},
   "source": [
    "## Graphing"
   ]
  },
  {
   "cell_type": "code",
   "execution_count": 92,
   "id": "c15e97f8-ebe8-4488-af0c-ea8ea6b0b31b",
   "metadata": {
    "tags": []
   },
   "outputs": [
    {
     "name": "stdout",
     "output_type": "stream",
     "text": [
      "\n",
      "\n",
      "\u001b[1m> Entering new SQL Agent Executor chain...\u001b[0m\n",
      "\u001b[32;1m\u001b[1;3m\n",
      "Invoking: `sql_db_query` with `{'query': \"SELECT year, SUM(count) AS count FROM names WHERE name = \\\\'Anna\\\\' GROUP BY year\"}`\n",
      "\n",
      "\n",
      "\u001b[0m\u001b[36;1m\u001b[1;3mError: (sqlite3.OperationalError) unrecognized token: \"\\\"\n",
      "[SQL: SELECT year, SUM(count) AS count FROM names WHERE name = \\'Anna\\' GROUP BY year]\n",
      "(Background on this error at: https://sqlalche.me/e/20/e3q8)\u001b[0m\u001b[32;1m\u001b[1;3m\n",
      "Invoking: `sql_db_query` with `{'query': \"SELECT year, SUM(count) AS count FROM names WHERE name = \\\\'Anna\\\\' GROUP BY year\"}`\n",
      "\n",
      "\n",
      "\u001b[0m\u001b[36;1m\u001b[1;3mError: (sqlite3.OperationalError) unrecognized token: \"\\\"\n",
      "[SQL: SELECT year, SUM(count) AS count FROM names WHERE name = \\'Anna\\' GROUP BY year]\n",
      "(Background on this error at: https://sqlalche.me/e/20/e3q8)\u001b[0m\u001b[32;1m\u001b[1;3m\n",
      "Invoking: `sql_db_query` with `{'query': \"SELECT year, SUM(count) AS count FROM names WHERE name = \\\\'Anna\\\\' GROUP BY year\"}`\n",
      "\n",
      "\n",
      "\u001b[0m\u001b[36;1m\u001b[1;3mError: (sqlite3.OperationalError) unrecognized token: \"\\\"\n",
      "[SQL: SELECT year, SUM(count) AS count FROM names WHERE name = \\'Anna\\' GROUP BY year]\n",
      "(Background on this error at: https://sqlalche.me/e/20/e3q8)\u001b[0m\u001b[32;1m\u001b[1;3m\n",
      "Invoking: `sql_db_query` with `{'query': \"SELECT year, SUM(count) AS count FROM names WHERE name = \\\\'Anna\\\\' GROUP BY year\"}`\n",
      "\n",
      "\n",
      "\u001b[0m\u001b[36;1m\u001b[1;3mError: (sqlite3.OperationalError) unrecognized token: \"\\\"\n",
      "[SQL: SELECT year, SUM(count) AS count FROM names WHERE name = \\'Anna\\' GROUP BY year]\n",
      "(Background on this error at: https://sqlalche.me/e/20/e3q8)\u001b[0m\u001b[32;1m\u001b[1;3m\n",
      "Invoking: `sql_db_query` with `{'query': \"SELECT year, SUM(count) AS count FROM names WHERE name = \\\\'Anna\\\\' GROUP BY year\"}`\n",
      "\n",
      "\n",
      "\u001b[0m\u001b[36;1m\u001b[1;3mError: (sqlite3.OperationalError) unrecognized token: \"\\\"\n",
      "[SQL: SELECT year, SUM(count) AS count FROM names WHERE name = \\'Anna\\' GROUP BY year]\n",
      "(Background on this error at: https://sqlalche.me/e/20/e3q8)\u001b[0m\u001b[32;1m\u001b[1;3m\n",
      "Invoking: `sql_db_query` with `{'query': \"SELECT year, SUM(count) AS count FROM names WHERE name = \\\\'Anna\\\\' GROUP BY year\"}`\n",
      "\n",
      "\n",
      "\u001b[0m\u001b[36;1m\u001b[1;3mError: (sqlite3.OperationalError) unrecognized token: \"\\\"\n",
      "[SQL: SELECT year, SUM(count) AS count FROM names WHERE name = \\'Anna\\' GROUP BY year]\n",
      "(Background on this error at: https://sqlalche.me/e/20/e3q8)\u001b[0m\u001b[32;1m\u001b[1;3m\n",
      "Invoking: `sql_db_query` with `{'query': \"SELECT year, SUM(count) AS count FROM names WHERE name = \\\\'Anna\\\\' GROUP BY year\"}`\n",
      "\n",
      "\n",
      "\u001b[0m\u001b[36;1m\u001b[1;3mError: (sqlite3.OperationalError) unrecognized token: \"\\\"\n",
      "[SQL: SELECT year, SUM(count) AS count FROM names WHERE name = \\'Anna\\' GROUP BY year]\n",
      "(Background on this error at: https://sqlalche.me/e/20/e3q8)\u001b[0m\u001b[32;1m\u001b[1;3m\n",
      "Invoking: `sql_db_query` with `{'query': \"SELECT year, SUM(count) AS count FROM names WHERE name = 'Anna' GROUP BY year\"}`\n",
      "\n",
      "\n",
      "\u001b[0m\u001b[36;1m\u001b[1;3m[(1880, 2616), (1881, 2714), (1882, 3143), (1883, 3322), (1884, 3880), (1885, 4014), (1886, 4298), (1887, 4240), (1888, 5008), (1889, 5085), (1890, 5253), (1891, 5114), (1892, 5562), (1893, 5712), (1894, 5585), (1895, 5968), (1896, 5877), (1897, 5448), (1898, 5804), (1899, 5138), (1900, 6139), (1901, 4941), (1902, 5304), (1903, 5116), (1904, 5346), (1905, 5445), (1906, 5515), (1907, 5595), (1908, 5870), (1909, 5828), (1910, 6457), (1911, 6773), (1912, 8615), (1913, 9718), (1914, 11905), (1915, 15150), (1916, 15263), (1917, 15193), (1918, 15697), (1919, 14540), (1920, 14614), (1921, 14504), (1922, 13449), (1923, 12903), (1924, 13108), (1925, 12284), (1926, 11746), (1927, 11265), (1928, 10626), (1929, 9792), (1930, 9132), (1931, 8462), (1932, 7962), (1933, 7098), (1934, 6704), (1935, 6192), (1936, 5764), (1937, 5468), (1938, 5166), (1939, 4947), (1940, 4742), (1941, 4446), (1942, 4511), (1943, 4246), (1944, 3650), (1945, 3618), (1946, 4013), (1947, 4253), (1948, 4052), (1949, 3912), (1950, 3824), (1951, 3884), (1952, 3728), (1953, 3848), (1954, 4012), (1955, 4104), (1956, 4412), (1957, 4455), (1958, 4669), (1959, 4899), (1960, 4671), (1961, 4695), (1962, 4444), (1963, 4272), (1964, 4313), (1965, 3933), (1966, 3695), (1967, 3740), (1968, 3579), (1969, 3730), (1970, 3819), (1971, 3592), (1972, 3462), (1973, 3517), (1974, 3632), (1975, 3591), (1976, 3600), (1977, 3870), (1978, 4187), (1979, 4698), (1980, 5060), (1981, 5216), (1982, 5293), (1983, 5233), (1984, 5328), (1985, 5902), (1986, 5934), (1987, 6192), (1988, 6471), (1989, 6957), (1990, 7326), (1991, 7132), (1992, 6858), (1993, 6821), (1994, 7546), (1995, 8581), (1996, 8583), (1997, 8342), (1998, 8399), (1999, 9126), (2000, 10622), (2001, 10598), (2002, 10405), (2003, 9471), (2004, 9571), (2005, 9127), (2006, 8611), (2007, 7910), (2008, 7287), (2009, 6825), (2010, 6345), (2011, 5676), (2012, 5630), (2013, 5398), (2014, 5701), (2015, 5152), (2016, 4807), (2017, 4578), (2018, 4197), (2019, 3844), (2020, 3511), (2021, 3080), (2022, 2953), (2023, 2918)]\u001b[0m\u001b[32;1m\u001b[1;3m\n",
      "Invoking: `sql_db_query` with `{'query': \"SELECT year, SUM(count) AS count FROM names WHERE name = 'Anna' GROUP BY year\"}`\n",
      "\n",
      "\n",
      "\u001b[0m\u001b[36;1m\u001b[1;3m[(1880, 2616), (1881, 2714), (1882, 3143), (1883, 3322), (1884, 3880), (1885, 4014), (1886, 4298), (1887, 4240), (1888, 5008), (1889, 5085), (1890, 5253), (1891, 5114), (1892, 5562), (1893, 5712), (1894, 5585), (1895, 5968), (1896, 5877), (1897, 5448), (1898, 5804), (1899, 5138), (1900, 6139), (1901, 4941), (1902, 5304), (1903, 5116), (1904, 5346), (1905, 5445), (1906, 5515), (1907, 5595), (1908, 5870), (1909, 5828), (1910, 6457), (1911, 6773), (1912, 8615), (1913, 9718), (1914, 11905), (1915, 15150), (1916, 15263), (1917, 15193), (1918, 15697), (1919, 14540), (1920, 14614), (1921, 14504), (1922, 13449), (1923, 12903), (1924, 13108), (1925, 12284), (1926, 11746), (1927, 11265), (1928, 10626), (1929, 9792), (1930, 9132), (1931, 8462), (1932, 7962), (1933, 7098), (1934, 6704), (1935, 6192), (1936, 5764), (1937, 5468), (1938, 5166), (1939, 4947), (1940, 4742), (1941, 4446), (1942, 4511), (1943, 4246), (1944, 3650), (1945, 3618), (1946, 4013), (1947, 4253), (1948, 4052), (1949, 3912), (1950, 3824), (1951, 3884), (1952, 3728), (1953, 3848), (1954, 4012), (1955, 4104), (1956, 4412), (1957, 4455), (1958, 4669), (1959, 4899), (1960, 4671), (1961, 4695), (1962, 4444), (1963, 4272), (1964, 4313), (1965, 3933), (1966, 3695), (1967, 3740), (1968, 3579), (1969, 3730), (1970, 3819), (1971, 3592), (1972, 3462), (1973, 3517), (1974, 3632), (1975, 3591), (1976, 3600), (1977, 3870), (1978, 4187), (1979, 4698), (1980, 5060), (1981, 5216), (1982, 5293), (1983, 5233), (1984, 5328), (1985, 5902), (1986, 5934), (1987, 6192), (1988, 6471), (1989, 6957), (1990, 7326), (1991, 7132), (1992, 6858), (1993, 6821), (1994, 7546), (1995, 8581), (1996, 8583), (1997, 8342), (1998, 8399), (1999, 9126), (2000, 10622), (2001, 10598), (2002, 10405), (2003, 9471), (2004, 9571), (2005, 9127), (2006, 8611), (2007, 7910), (2008, 7287), (2009, 6825), (2010, 6345), (2011, 5676), (2012, 5630), (2013, 5398), (2014, 5701), (2015, 5152), (2016, 4807), (2017, 4578), (2018, 4197), (2019, 3844), (2020, 3511), (2021, 3080), (2022, 2953), (2023, 2918)]\u001b[0m\u001b[32;1m\u001b[1;3m\n",
      "Invoking: `sql_db_query` with `{'query': \"SELECT year, SUM(count) AS count FROM names WHERE name = 'Anna' GROUP BY year\"}`\n",
      "\n",
      "\n",
      "\u001b[0m\u001b[36;1m\u001b[1;3m[(1880, 2616), (1881, 2714), (1882, 3143), (1883, 3322), (1884, 3880), (1885, 4014), (1886, 4298), (1887, 4240), (1888, 5008), (1889, 5085), (1890, 5253), (1891, 5114), (1892, 5562), (1893, 5712), (1894, 5585), (1895, 5968), (1896, 5877), (1897, 5448), (1898, 5804), (1899, 5138), (1900, 6139), (1901, 4941), (1902, 5304), (1903, 5116), (1904, 5346), (1905, 5445), (1906, 5515), (1907, 5595), (1908, 5870), (1909, 5828), (1910, 6457), (1911, 6773), (1912, 8615), (1913, 9718), (1914, 11905), (1915, 15150), (1916, 15263), (1917, 15193), (1918, 15697), (1919, 14540), (1920, 14614), (1921, 14504), (1922, 13449), (1923, 12903), (1924, 13108), (1925, 12284), (1926, 11746), (1927, 11265), (1928, 10626), (1929, 9792), (1930, 9132), (1931, 8462), (1932, 7962), (1933, 7098), (1934, 6704), (1935, 6192), (1936, 5764), (1937, 5468), (1938, 5166), (1939, 4947), (1940, 4742), (1941, 4446), (1942, 4511), (1943, 4246), (1944, 3650), (1945, 3618), (1946, 4013), (1947, 4253), (1948, 4052), (1949, 3912), (1950, 3824), (1951, 3884), (1952, 3728), (1953, 3848), (1954, 4012), (1955, 4104), (1956, 4412), (1957, 4455), (1958, 4669), (1959, 4899), (1960, 4671), (1961, 4695), (1962, 4444), (1963, 4272), (1964, 4313), (1965, 3933), (1966, 3695), (1967, 3740), (1968, 3579), (1969, 3730), (1970, 3819), (1971, 3592), (1972, 3462), (1973, 3517), (1974, 3632), (1975, 3591), (1976, 3600), (1977, 3870), (1978, 4187), (1979, 4698), (1980, 5060), (1981, 5216), (1982, 5293), (1983, 5233), (1984, 5328), (1985, 5902), (1986, 5934), (1987, 6192), (1988, 6471), (1989, 6957), (1990, 7326), (1991, 7132), (1992, 6858), (1993, 6821), (1994, 7546), (1995, 8581), (1996, 8583), (1997, 8342), (1998, 8399), (1999, 9126), (2000, 10622), (2001, 10598), (2002, 10405), (2003, 9471), (2004, 9571), (2005, 9127), (2006, 8611), (2007, 7910), (2008, 7287), (2009, 6825), (2010, 6345), (2011, 5676), (2012, 5630), (2013, 5398), (2014, 5701), (2015, 5152), (2016, 4807), (2017, 4578), (2018, 4197), (2019, 3844), (2020, 3511), (2021, 3080), (2022, 2953), (2023, 2918)]\u001b[0m\u001b[32;1m\u001b[1;3m\n",
      "Invoking: `sql_db_query` with `{'query': \"SELECT year, SUM(count) AS count FROM names WHERE name = 'Anna' GROUP BY year\"}`\n",
      "\n",
      "\n",
      "\u001b[0m\u001b[36;1m\u001b[1;3m[(1880, 2616), (1881, 2714), (1882, 3143), (1883, 3322), (1884, 3880), (1885, 4014), (1886, 4298), (1887, 4240), (1888, 5008), (1889, 5085), (1890, 5253), (1891, 5114), (1892, 5562), (1893, 5712), (1894, 5585), (1895, 5968), (1896, 5877), (1897, 5448), (1898, 5804), (1899, 5138), (1900, 6139), (1901, 4941), (1902, 5304), (1903, 5116), (1904, 5346), (1905, 5445), (1906, 5515), (1907, 5595), (1908, 5870), (1909, 5828), (1910, 6457), (1911, 6773), (1912, 8615), (1913, 9718), (1914, 11905), (1915, 15150), (1916, 15263), (1917, 15193), (1918, 15697), (1919, 14540), (1920, 14614), (1921, 14504), (1922, 13449), (1923, 12903), (1924, 13108), (1925, 12284), (1926, 11746), (1927, 11265), (1928, 10626), (1929, 9792), (1930, 9132), (1931, 8462), (1932, 7962), (1933, 7098), (1934, 6704), (1935, 6192), (1936, 5764), (1937, 5468), (1938, 5166), (1939, 4947), (1940, 4742), (1941, 4446), (1942, 4511), (1943, 4246), (1944, 3650), (1945, 3618), (1946, 4013), (1947, 4253), (1948, 4052), (1949, 3912), (1950, 3824), (1951, 3884), (1952, 3728), (1953, 3848), (1954, 4012), (1955, 4104), (1956, 4412), (1957, 4455), (1958, 4669), (1959, 4899), (1960, 4671), (1961, 4695), (1962, 4444), (1963, 4272), (1964, 4313), (1965, 3933), (1966, 3695), (1967, 3740), (1968, 3579), (1969, 3730), (1970, 3819), (1971, 3592), (1972, 3462), (1973, 3517), (1974, 3632), (1975, 3591), (1976, 3600), (1977, 3870), (1978, 4187), (1979, 4698), (1980, 5060), (1981, 5216), (1982, 5293), (1983, 5233), (1984, 5328), (1985, 5902), (1986, 5934), (1987, 6192), (1988, 6471), (1989, 6957), (1990, 7326), (1991, 7132), (1992, 6858), (1993, 6821), (1994, 7546), (1995, 8581), (1996, 8583), (1997, 8342), (1998, 8399), (1999, 9126), (2000, 10622), (2001, 10598), (2002, 10405), (2003, 9471), (2004, 9571), (2005, 9127), (2006, 8611), (2007, 7910), (2008, 7287), (2009, 6825), (2010, 6345), (2011, 5676), (2012, 5630), (2013, 5398), (2014, 5701), (2015, 5152), (2016, 4807), (2017, 4578), (2018, 4197), (2019, 3844), (2020, 3511), (2021, 3080), (2022, 2953), (2023, 2918)]\u001b[0m\u001b[32;1m\u001b[1;3m\n",
      "Invoking: `sql_db_query` with `{'query': \"SELECT year, SUM(count) AS count FROM names WHERE name = 'Anna' GROUP BY year\"}`\n",
      "\n",
      "\n",
      "\u001b[0m\u001b[36;1m\u001b[1;3m[(1880, 2616), (1881, 2714), (1882, 3143), (1883, 3322), (1884, 3880), (1885, 4014), (1886, 4298), (1887, 4240), (1888, 5008), (1889, 5085), (1890, 5253), (1891, 5114), (1892, 5562), (1893, 5712), (1894, 5585), (1895, 5968), (1896, 5877), (1897, 5448), (1898, 5804), (1899, 5138), (1900, 6139), (1901, 4941), (1902, 5304), (1903, 5116), (1904, 5346), (1905, 5445), (1906, 5515), (1907, 5595), (1908, 5870), (1909, 5828), (1910, 6457), (1911, 6773), (1912, 8615), (1913, 9718), (1914, 11905), (1915, 15150), (1916, 15263), (1917, 15193), (1918, 15697), (1919, 14540), (1920, 14614), (1921, 14504), (1922, 13449), (1923, 12903), (1924, 13108), (1925, 12284), (1926, 11746), (1927, 11265), (1928, 10626), (1929, 9792), (1930, 9132), (1931, 8462), (1932, 7962), (1933, 7098), (1934, 6704), (1935, 6192), (1936, 5764), (1937, 5468), (1938, 5166), (1939, 4947), (1940, 4742), (1941, 4446), (1942, 4511), (1943, 4246), (1944, 3650), (1945, 3618), (1946, 4013), (1947, 4253), (1948, 4052), (1949, 3912), (1950, 3824), (1951, 3884), (1952, 3728), (1953, 3848), (1954, 4012), (1955, 4104), (1956, 4412), (1957, 4455), (1958, 4669), (1959, 4899), (1960, 4671), (1961, 4695), (1962, 4444), (1963, 4272), (1964, 4313), (1965, 3933), (1966, 3695), (1967, 3740), (1968, 3579), (1969, 3730), (1970, 3819), (1971, 3592), (1972, 3462), (1973, 3517), (1974, 3632), (1975, 3591), (1976, 3600), (1977, 3870), (1978, 4187), (1979, 4698), (1980, 5060), (1981, 5216), (1982, 5293), (1983, 5233), (1984, 5328), (1985, 5902), (1986, 5934), (1987, 6192), (1988, 6471), (1989, 6957), (1990, 7326), (1991, 7132), (1992, 6858), (1993, 6821), (1994, 7546), (1995, 8581), (1996, 8583), (1997, 8342), (1998, 8399), (1999, 9126), (2000, 10622), (2001, 10598), (2002, 10405), (2003, 9471), (2004, 9571), (2005, 9127), (2006, 8611), (2007, 7910), (2008, 7287), (2009, 6825), (2010, 6345), (2011, 5676), (2012, 5630), (2013, 5398), (2014, 5701), (2015, 5152), (2016, 4807), (2017, 4578), (2018, 4197), (2019, 3844), (2020, 3511), (2021, 3080), (2022, 2953), (2023, 2918)]\u001b[0m\u001b[32;1m\u001b[1;3m\n",
      "Invoking: `sql_db_query` with `{'query': \"SELECT year, SUM(count) AS count FROM names WHERE name = 'Anna' GROUP BY year\"}`\n",
      "\n",
      "\n",
      "\u001b[0m\u001b[36;1m\u001b[1;3m[(1880, 2616), (1881, 2714), (1882, 3143), (1883, 3322), (1884, 3880), (1885, 4014), (1886, 4298), (1887, 4240), (1888, 5008), (1889, 5085), (1890, 5253), (1891, 5114), (1892, 5562), (1893, 5712), (1894, 5585), (1895, 5968), (1896, 5877), (1897, 5448), (1898, 5804), (1899, 5138), (1900, 6139), (1901, 4941), (1902, 5304), (1903, 5116), (1904, 5346), (1905, 5445), (1906, 5515), (1907, 5595), (1908, 5870), (1909, 5828), (1910, 6457), (1911, 6773), (1912, 8615), (1913, 9718), (1914, 11905), (1915, 15150), (1916, 15263), (1917, 15193), (1918, 15697), (1919, 14540), (1920, 14614), (1921, 14504), (1922, 13449), (1923, 12903), (1924, 13108), (1925, 12284), (1926, 11746), (1927, 11265), (1928, 10626), (1929, 9792), (1930, 9132), (1931, 8462), (1932, 7962), (1933, 7098), (1934, 6704), (1935, 6192), (1936, 5764), (1937, 5468), (1938, 5166), (1939, 4947), (1940, 4742), (1941, 4446), (1942, 4511), (1943, 4246), (1944, 3650), (1945, 3618), (1946, 4013), (1947, 4253), (1948, 4052), (1949, 3912), (1950, 3824), (1951, 3884), (1952, 3728), (1953, 3848), (1954, 4012), (1955, 4104), (1956, 4412), (1957, 4455), (1958, 4669), (1959, 4899), (1960, 4671), (1961, 4695), (1962, 4444), (1963, 4272), (1964, 4313), (1965, 3933), (1966, 3695), (1967, 3740), (1968, 3579), (1969, 3730), (1970, 3819), (1971, 3592), (1972, 3462), (1973, 3517), (1974, 3632), (1975, 3591), (1976, 3600), (1977, 3870), (1978, 4187), (1979, 4698), (1980, 5060), (1981, 5216), (1982, 5293), (1983, 5233), (1984, 5328), (1985, 5902), (1986, 5934), (1987, 6192), (1988, 6471), (1989, 6957), (1990, 7326), (1991, 7132), (1992, 6858), (1993, 6821), (1994, 7546), (1995, 8581), (1996, 8583), (1997, 8342), (1998, 8399), (1999, 9126), (2000, 10622), (2001, 10598), (2002, 10405), (2003, 9471), (2004, 9571), (2005, 9127), (2006, 8611), (2007, 7910), (2008, 7287), (2009, 6825), (2010, 6345), (2011, 5676), (2012, 5630), (2013, 5398), (2014, 5701), (2015, 5152), (2016, 4807), (2017, 4578), (2018, 4197), (2019, 3844), (2020, 3511), (2021, 3080), (2022, 2953), (2023, 2918)]\u001b[0m\u001b[32;1m\u001b[1;3mThe number of babies named Anna born each year is:\n",
      "\n",
      "* 1880: 2616\n",
      "* 1881: 2714\n",
      "* 1882: 3143\n",
      "* 1883: 3322\n",
      "* 1884: 3880\n",
      "* 1885: 4014\n",
      "* 1886: 4298\n",
      "* 1887: 4240\n",
      "* 1888: 5008\n",
      "* 1889: 5085\n",
      "* 1890: 5253\n",
      "* 1891: 5114\n",
      "* 1892: 5562\n",
      "* 1893: 5712\n",
      "* 1894: 5585\n",
      "* 1895: 5968\n",
      "* 1896: 5877\n",
      "* 1897: 5448\n",
      "* 1898: 5804\n",
      "* 1899: 5138\n",
      "* 1900: 6139\n",
      "* 1901: 4941\n",
      "* 1902: 5304\n",
      "* 1903: 5116\n",
      "* 1904: 5346\n",
      "* 1905: 5445\n",
      "* 1906: 5515\n",
      "* 1907: 5595\n",
      "* 1908: 5870\n",
      "* 1909: 5828\n",
      "* 1910: 6457\n",
      "* 1911: 6773\n",
      "* 1912: 8615\n",
      "* 1913: 9718\n",
      "* 1914: 11905\n",
      "* 1915: 15150\n",
      "* 1916: 15263\n",
      "* 1917: 15193\n",
      "* 1918: 15697\n",
      "* 1919: 14540\n",
      "* 1920: 14614\n",
      "* 1921: 14504\n",
      "* 1922: 13449\n",
      "* 1923: 12903\n",
      "* 1924: 13108\n",
      "* 1925: 12284\n",
      "* 1926: 11746\n",
      "* 1927: 11265\n",
      "* 1928: 10626\n",
      "* 1929: 9792\n",
      "* 1930: 9132\n",
      "* 1931: 8462\n",
      "* 1932: 7962\n",
      "* 1933: 7098\n",
      "* 1934: 6704\n",
      "* 1935: 6192\n",
      "* 1936: 5764\n",
      "* 1937: 5468\n",
      "* 1938: 5166\n",
      "* 1939: 4947\n",
      "* 1940: 4742\n",
      "* 1941: 4446\n",
      "* 1942: 4511\n",
      "* 1943: 4246\n",
      "* 1944: 3650\n",
      "* 1945: 3618\n",
      "* 1946: 4013\n",
      "* 1947: 4253\n",
      "* 1948: 4052\n",
      "* 1949: 3912\n",
      "* 1950: 3824\n",
      "* 1951: 3884\n",
      "* 1952: 3728\n",
      "* 1953: 3848\n",
      "* 1954: 4012\n",
      "* 1955: 4104\n",
      "* 1956: 4412\n",
      "* 1957: 4455\n",
      "* 1958: 4669\n",
      "* 1959: 4899\n",
      "* 1960: 4671\n",
      "* 1961: 4695\n",
      "* 1962: 4444\n",
      "* 1963: 4272\n",
      "* 1964: 4313\n",
      "* 1965: 3933\n",
      "* 1966: 3695\n",
      "* 1967: 3740\n",
      "* 1968: 3579\n",
      "* 1969: 3730\n",
      "* 1970: 3819\n",
      "* 1971: 3592\n",
      "* 1972: 3462\n",
      "* 1973: 3517\n",
      "* 1974: 3632\n",
      "* 1975: 3591\n",
      "* 1976: 3600\n",
      "* 1977: 3870\n",
      "* 1978: 4187\n",
      "* 1979: 4698\n",
      "* 1980: 5060\n",
      "* 1981: 5216\n",
      "* 1982: 5293\n",
      "* 1983: 5233\n",
      "* 1984: 5328\n",
      "* 1985: 5902\n",
      "* 1986: 5934\n",
      "* 1987: 6192\n",
      "* 1988: 6471\n",
      "* 1989: 6957\n",
      "* 1990: 7326\n",
      "* 1991: 7132\n",
      "* 1992: 6858\n",
      "* 1993: 6821\n",
      "* 1994: 7546\n",
      "* 1995: 8581\n",
      "* 1996: 8583\n",
      "* 1997: 8342\n",
      "* 1998: 8399\n",
      "* 1999: 9126\n",
      "* 2000: 10622\n",
      "* 2001: 10598\n",
      "* 2002: 10405\n",
      "* 2003: 9471\n",
      "* 2004: 9571\n",
      "* 2005: 9127\n",
      "* 2006: 8611\n",
      "* 2007: 7910\n",
      "* 2008: 7287\n",
      "* 2009: 6825\n",
      "* 2010: 6345\n",
      "* 2011: 5676\n",
      "* 2012: 5630\n",
      "* 2013: 5398\n",
      "* 2014: 5701\n",
      "* 2015: 5152\n",
      "* 2016: 4807\n",
      "* 2017: 4578\n",
      "* 2018: 4197\n",
      "* 2019: 3844\n",
      "* 2020: 3511\n",
      "* 2021: 3080\n",
      "* 2022: 2953\n",
      "* 2023: 2918\n",
      "```\u001b[0m\n",
      "\n",
      "\u001b[1m> Finished chain.\u001b[0m\n"
     ]
    }
   ],
   "source": [
    "popularity = agent_executor.invoke(\n",
    "    input={\"input\": \"Get data on number of babies with the name 'Anna' by year as a list of year, count\"},  top_k=1000, max_iterations=2\n",
    ")"
   ]
  },
  {
   "cell_type": "code",
   "execution_count": 93,
   "id": "2cf29960-e63c-40c1-8f52-1846954e4f2a",
   "metadata": {
    "tags": []
   },
   "outputs": [],
   "source": [
    "plot_code = model.invoke(\"Create Python code to chart this data as a line plot:\\n\" + popularity['output'])"
   ]
  },
  {
   "cell_type": "code",
   "execution_count": 94,
   "id": "39753c82-339c-4d1c-bc8d-6162425346c0",
   "metadata": {
    "tags": []
   },
   "outputs": [
    {
     "name": "stdout",
     "output_type": "stream",
     "text": [
      "\n",
      "import matplotlib.pyplot as plt\n",
      "\n",
      "# Data as a dictionary\n",
      "anna_names = {\n",
      "    1880: 2616,\n",
      "    1881: 2714,\n",
      "    1882: 3143,\n",
      "    1883: 3322,\n",
      "    1884: 3880,\n",
      "    1885: 4014,\n",
      "    1886: 4298,\n",
      "    1887: 4240,\n",
      "    1888: 5008,\n",
      "    1889: 5085,\n",
      "    1890: 5253,\n",
      "    1891: 5114,\n",
      "    1892: 5562,\n",
      "    1893: 5712,\n",
      "    1894: 5585,\n",
      "    1895: 5968,\n",
      "    1896: 5877,\n",
      "    1897: 5448,\n",
      "    1898: 5804,\n",
      "    1899: 5138,\n",
      "    1900: 6139,\n",
      "    1901: 4941,\n",
      "    1902: 5304,\n",
      "    1903: 5116,\n",
      "    1904: 5346,\n",
      "    1905: 5445,\n",
      "    1906: 5515,\n",
      "    1907: 5595,\n",
      "    1908: 5870,\n",
      "    1909: 5828,\n",
      "    1910: 6457,\n",
      "    1911: 6773,\n",
      "    1912: 8615,\n",
      "    1913: 9718,\n",
      "    1914: 11905,\n",
      "    1915: 15150,\n",
      "    1916: 15263,\n",
      "    1917: 15193,\n",
      "    1918: 15697,\n",
      "    1919: 14540,\n",
      "    1920: 14614,\n",
      "    1921: 14504,\n",
      "    1922: 13449,\n",
      "    1923: 12903,\n",
      "    1924: 13108,\n",
      "    1925: 12284,\n",
      "    1926: 11746,\n",
      "    1927: 11265,\n",
      "    1928: 10626,\n",
      "    1929: 9792,\n",
      "    1930: 9132,\n",
      "    1931: 8462,\n",
      "    1932: 7962,\n",
      "    1933: 7098,\n",
      "    1934: 6704,\n",
      "    1935: 6192,\n",
      "    1936: 5764,\n",
      "    1937: 5468,\n",
      "    1938: 5166,\n",
      "    1939: 4947,\n",
      "    1940: 4742,\n",
      "    1941: 4446,\n",
      "    1942: 4511,\n",
      "    1943: 4246,\n",
      "    1944: 3650,\n",
      "    1945: 3618,\n",
      "    1946: 4013,\n",
      "    1947: 4253,\n",
      "    1948: 4052,\n",
      "    1949: 3912,\n",
      "    1950: 3824,\n",
      "    1951: 3884,\n",
      "    1952: 3728,\n",
      "    1953: 3848,\n",
      "    1954: 4012,\n",
      "    1955: 4104,\n",
      "    1956: 4412,\n",
      "    1957: 4455,\n",
      "    1958: 4669,\n",
      "    1959: 4899,\n",
      "    1960: 4671,\n",
      "    1961: 4695,\n",
      "    1962: 4444,\n",
      "    1963: 4272,\n",
      "    1964: 4313,\n",
      "    1965: 3933,\n",
      "    1966: 3695,\n",
      "    1967: 3740,\n",
      "    1968: 3579,\n",
      "    1969: 3730,\n",
      "    1970: 3819,\n",
      "    1971: 3592,\n",
      "    1972: 3462,\n",
      "    1973: 3517,\n",
      "    1974: 3632,\n",
      "    1975: 3591,\n",
      "    1976: 3600,\n",
      "    1977: 3870,\n",
      "    1978: 4187,\n",
      "    1979: 4698,\n",
      "    1980: 5060,\n",
      "    1981: 5216,\n",
      "    1982: 5293,\n",
      "    1983: 5233,\n",
      "    1984: 5328,\n",
      "    1985: 5902,\n",
      "    1986: 5934,\n",
      "    1987: 6192,\n",
      "    1988: 6471,\n",
      "    1989: 6957,\n",
      "    1990: 7326,\n",
      "    1991: 7132,\n",
      "    1992: 6858,\n",
      "    1993: 6821,\n",
      "    1994: 7546,\n",
      "    1995: 8581,\n",
      "    1996: 8583,\n",
      "    1997: 8342,\n",
      "    1998: 8399,\n",
      "    1999: 9126,\n",
      "    2000: 10622,\n",
      "    2001: 10598,\n",
      "    2002: 10405,\n",
      "    2003: 9471,\n",
      "    2004: 9571,\n",
      "    2005: 9127,\n",
      "    2006: 8611,\n",
      "    2007: 7910,\n",
      "    2008: 7287,\n",
      "    2009: 6825,\n",
      "    2010: 6345,\n",
      "    2011: 5676,\n",
      "    2012: 5630,\n",
      "    2013: 5398,\n",
      "    2014: 5701,\n",
      "    2015: 5152,\n",
      "    2016: 4807,\n",
      "    2017: 4578,\n",
      "    2018: 4197,\n",
      "    2019: 3844,\n",
      "    2020: 3511,\n",
      "    2021: 3080,\n",
      "    2022: 2953,\n",
      "    2023: 2918\n",
      "}\n",
      "\n",
      "# Extract data for plotting\n",
      "years = list(anna_names.keys())\n",
      "counts = list(anna_names.values())\n",
      "\n",
      "# Create the line plot\n",
      "plt.plot(years, counts)\n",
      "\n",
      "# Set labels and title\n",
      "plt.xlabel(\"Year\")\n",
      "plt.ylabel(\"Number of Babies Named Anna\")\n",
      "plt.title(\"Popularity of the Name Anna Over Time\")\n",
      "\n",
      "# Show the plot\n",
      "plt.show()\n"
     ]
    }
   ],
   "source": [
    "import re\n",
    "\n",
    "def get_text_between_triple_backticks(text):\n",
    "  match = re.search(r'```python(.*?)```', text, re.DOTALL)\n",
    "  if match:\n",
    "    return match.group(1)\n",
    "  else:\n",
    "    return None\n",
    "pycode = get_text_between_triple_backticks(plot_code.content)\n",
    "with open('plot_code.py', 'w') as ofp:\n",
    "    ofp.write(pycode)\n",
    "!cat plot_code.py"
   ]
  },
  {
   "cell_type": "code",
   "execution_count": 95,
   "id": "6b087a86-e6b8-4cab-b3e8-23014cdbae28",
   "metadata": {
    "tags": []
   },
   "outputs": [
    {
     "data": {
      "image/png": "[encoded data removed]",
      "text/plain": [
       "<Figure size 640x480 with 1 Axes>"
      ]
     },
     "metadata": {},
     "output_type": "display_data"
    },
    {
     "data": {
      "text/plain": [
       "<Figure size 640x480 with 0 Axes>"
      ]
     },
     "metadata": {},
     "output_type": "display_data"
    }
   ],
   "source": [
    "%run plot_code.py"
   ]
  },
  {
   "cell_type": "code",
   "execution_count": null,
   "id": "111c5800-6d63-44a4-9c85-15e74f7f8927",
   "metadata": {},
   "outputs": [],
   "source": []
  }
 ],
 "metadata": {
  "environment": {
   "kernel": "conda-base-py",
   "name": "workbench-notebooks.m120",
   "type": "gcloud",
   "uri": "us-docker.pkg.dev/deeplearning-platform-release/gcr.io/workbench-notebooks:m120"
  },
  "kernelspec": {
   "display_name": "Python 3 (ipykernel)",
   "language": "python",
   "name": "conda-base-py"
  },
  "language_info": {
   "codemirror_mode": {
    "name": "ipython",
    "version": 3
   },
   "file_extension": ".py",
   "mimetype": "text/x-python",
   "name": "python",
   "nbconvert_exporter": "python",
   "pygments_lexer": "ipython3",
   "version": "3.10.14"
  }
 },
 "nbformat": 4,
 "nbformat_minor": 5
}

{
 "cells": [
  {
   "cell_type": "markdown",
   "id": "c8616aa7-cc1f-4781-8d8e-81f0be58a07c",
   "metadata": {
    "tags": []
   },
   "source": [
    "# Reflection\n",
    "\n",
    "This notebook demonstrates reflection."
   ]
  },
  {
   "cell_type": "code",
   "execution_count": 1,
   "id": "bd69fc04-0efe-451e-93a8-1a6a19ae6e2e",
   "metadata": {
    "tags": []
   },
   "outputs": [],
   "source": [
    "#%pip install -qU langchain-google-vertexai"
   ]
  },
  {
   "cell_type": "code",
   "execution_count": 2,
   "id": "926c7cb8-b6da-4a05-8f6c-debe86ae5aff",
   "metadata": {
    "tags": []
   },
   "outputs": [],
   "source": [
    "from dotenv import load_dotenv\n",
    "\n",
    "load_dotenv(\"../genai_agents/keys.env\");"
   ]
  },
  {
   "cell_type": "code",
   "execution_count": 3,
   "id": "91d4c098-8190-41d8-a991-007e58427399",
   "metadata": {},
   "outputs": [],
   "source": [
    "from langchain_core.prompts import PromptTemplate\n",
    "from langchain_google_vertexai import ChatVertexAI\n",
    "from langchain_core.output_parsers import StrOutputParser"
   ]
  },
  {
   "cell_type": "markdown",
   "id": "2887412e-c2df-4fc3-b486-8da7247ea4f0",
   "metadata": {},
   "source": [
    "## 1. Call LLM to generate first version of article"
   ]
  },
  {
   "cell_type": "code",
   "execution_count": 4,
   "id": "42fc485e-97e2-4669-b4fd-ba34f9accfa8",
   "metadata": {
    "tags": []
   },
   "outputs": [
    {
     "name": "stdout",
     "output_type": "stream",
     "text": [
      "## Conquer the Cascades: Hiking Adventures in a Wilderness Wonderland\n",
      "\n",
      "As your plane descends over the jagged peaks and shimmering turquoise lakes of North Cascades National Park, a primal sense of adventure stirs. This is a land sculpted by glaciers and fire, where towering mountains meet dense forests and crystal-clear rivers carve their way through ancient valleys. It's a paradise for hikers, offering trails for all levels of experience, from gentle strolls through meadows to challenging climbs to alpine summits. \n",
      "\n",
      "**For the Beginner:**\n",
      "\n",
      "* **Maple Pass Loop:** This 7-mile loop, accessible from the Marblemount Ranger District, offers breathtaking views of the Cascade Range, including the iconic \"Maple Pass\" itself. The trail climbs steadily but is well-maintained and manageable for most hikers. Reward yourself with wildflowers, marmots, and possibly even a glimpse of a mountain goat.\n",
      "\n",
      "* **Ross Lake Trail:**  Embrace the serenity of the North Cascades' wilderness on this 5-mile, out-and-back trail.  Meandering along the shores of Ross Lake, this path offers stunning views of the lake and surrounding peaks, perfect for a leisurely afternoon stroll.  \n",
      "\n",
      "**For the Intermediate:**\n",
      "\n",
      "* **Heather Meadows Trail:**  Start your ascent near the iconic Mount Baker Ski Area and delve into the heart of the wildflower meadows.  This 3-mile trail climbs steadily, rewarding you with spectacular panoramas of Mount Baker and the surrounding peaks. \n",
      "\n",
      "* **Cascade Pass Trail:**  Embark on a journey through diverse landscapes, from lush forests to rugged alpine meadows.  This challenging, 8-mile roundtrip leads to a scenic pass with awe-inspiring views of the Picket Range.  \n",
      "\n",
      "**For the Advanced:**\n",
      "\n",
      "* **Enchantments Basin Trail:**  Prepare for an epic adventure on this challenging 10-mile roundtrip.  The trail leads to the breathtaking Enchantment Lakes Basin, a high-alpine wonderland with cascading waterfalls, crystal-clear lakes, and stunning mountain views.  \n",
      "\n",
      "* **Colonial Creek Trail to Colonial Peak:**  For seasoned hikers seeking a real challenge, this 8-mile roundtrip boasts over 3000 feet of elevation gain.  The trail winds through subalpine meadows and forests before culminating in stunning views of the surrounding peaks, including the iconic Colonial Peak.\n",
      "\n",
      "**Planning Your Trip:**\n",
      "\n",
      "* **Permit Requirements:** Some trails, including the Enchantment Basin, require permits due to high visitor volume. Check the National Park Service website for current requirements and reservation information.\n",
      "* **Backcountry Safety:** Be prepared for changing weather conditions and pack accordingly.  Carry plenty of water, food, and appropriate gear, including sturdy hiking boots, layers of clothing, and a map and compass. \n",
      "* **Wildlife Encounters:**  Keep a safe distance from wildlife, especially bears and mountain goats.  Store food properly and be aware of your surroundings.\n",
      "\n",
      "North Cascades National Park is a world of wilderness beauty and challenging adventures. Whether you're a seasoned hiker or just starting out, there's a trail waiting to be explored. Come, experience the wild heart of the Cascades and leave with memories that will last a lifetime. \n",
      "\n"
     ]
    }
   ],
   "source": [
    "model = ChatVertexAI(model=\"gemini-1.5-flash\")\n",
    "prompt_template = PromptTemplate.from_template(\n",
    "    \"\"\"\n",
    "    You are a travel expert and outdoors guide. \n",
    "    Write an article for an inflight magazine about {topic} in {location}.\n",
    "    \"\"\"\n",
    ")\n",
    "parser = StrOutputParser()\n",
    "chain = prompt_template | model | parser\n",
    "\n",
    "article = chain.invoke({\n",
    "    \"topic\": \"hiking options\",\n",
    "    \"location\": \"North Cascades National Park\",\n",
    "})\n",
    "\n",
    "print(article)"
   ]
  },
  {
   "cell_type": "markdown",
   "id": "65bdcacf-34b0-4513-95f7-bc138ca43175",
   "metadata": {
    "tags": []
   },
   "source": [
    "## 2. Reflect on the response"
   ]
  },
  {
   "cell_type": "code",
   "execution_count": 6,
   "id": "7a6560e9-643e-409c-b7db-0c27d8938b02",
   "metadata": {
    "tags": []
   },
   "outputs": [
    {
     "name": "stdout",
     "output_type": "stream",
     "text": [
      "##  Critique of \"Conquer the Cascades: Hiking Adventures in a Wilderness Wonderland\" using the 4Ps of Marketing Framework:\n",
      "\n",
      "**Product:**\n",
      "\n",
      "* **Strengths:** The article successfully highlights the diverse hiking opportunities in North Cascades National Park, catering to different experience levels.  The detailed descriptions of specific trails, including distance, difficulty, and key features, provide valuable information for potential hikers. \n",
      "* **Weaknesses:** The article lacks a clear target audience beyond \"hikers\". While it mentions beginners, intermediate, and advanced hikers, it doesn't delve deeper into specific demographics (e.g., families, solo travelers, experienced mountaineers) or their specific needs and interests.  \n",
      "\n",
      "**Price:**\n",
      "\n",
      "* **Strengths:**  The article indirectly mentions the \"price\" of the hiking experience through the mention of permit requirements and the need for gear and supplies.  This subtly signals that the experience may require some investment.\n",
      "* **Weaknesses:**  There is no explicit mention of the cost of permits, gear, or transportation, which could deter some readers who are price-sensitive.  The article could benefit from a section on budgeting for a trip to North Cascades.\n",
      "\n",
      "**Place:**\n",
      "\n",
      "* **Strengths:** The article effectively showcases the location's unique beauty and rugged wilderness appeal.  The descriptions of the terrain, views, and wildlife create a strong sense of place.\n",
      "* **Weaknesses:** The article could benefit from providing more specific location information for the trails, such as trailhead locations, driving directions, and nearby lodging options.\n",
      "\n",
      "**Promotion:**\n",
      "\n",
      "* **Strengths:** The article uses engaging language and vivid imagery to captivate readers and evoke a sense of adventure.  The call-to-action \"Come, experience the wild heart of the Cascades...\" is compelling and encourages further exploration.\n",
      "* **Weaknesses:** The article lacks a clear promotion strategy.  It doesn't specify where it will be published or who the target audience is.  A clearer understanding of the target audience and the promotion channels would improve the article's effectiveness.\n",
      "\n",
      "**Overall:**\n",
      "\n",
      "The article is well-written and informative, providing a good overview of hiking opportunities in North Cascades National Park.  However, it could be improved by:\n",
      "\n",
      "* **Target audience:**  Defining the target audience more clearly (e.g., families, solo travelers, experienced hikers) and tailoring the content accordingly.\n",
      "* **Pricing:**  Providing more information about the cost of the experience, including permits, gear, and transportation.\n",
      "* **Place:**  Offering more detailed information about locations and access to trails.\n",
      "* **Promotion:**  Defining the target audience and the promotion channels to increase the article's effectiveness.\n",
      "\n",
      "By addressing these points, the article could become a more effective marketing tool for promoting hiking adventures in North Cascades National Park. \n",
      "\n"
     ]
    }
   ],
   "source": [
    "critic_template = PromptTemplate.from_template(\n",
    "    \"\"\"\n",
    "    Here’s an article written by a travel expert for an inflight magazine. \n",
    "    Critique the article using the 4Ps of marketing framework. \n",
    "    {article}\n",
    "    \"\"\"\n",
    ")\n",
    "chain2 = critic_template | model | parser\n",
    "\n",
    "critique = chain2.invoke({\n",
    "    \"topic\": \"hiking options\",\n",
    "    \"location\": \"North Cascades National Park\",\n",
    "    \"article\": article\n",
    "})\n",
    "\n",
    "print(critique)"
   ]
  },
  {
   "cell_type": "markdown",
   "id": "ff659cdf-2f33-40ef-9032-a55fae599dba",
   "metadata": {},
   "source": [
    "Two of the pieces of feedback are to include cost of permits in a \"price\" and to provide information on getting to the trails."
   ]
  },
  {
   "cell_type": "markdown",
   "id": "be6e8220-137c-4939-997a-76f92e924eb6",
   "metadata": {},
   "source": [
    "## 3. Modify response based on critique"
   ]
  },
  {
   "cell_type": "code",
   "execution_count": 8,
   "id": "494f003c-391d-4234-89ba-be6f0f83e45e",
   "metadata": {
    "tags": []
   },
   "outputs": [
    {
     "name": "stdout",
     "output_type": "stream",
     "text": [
      "##  North Cascades National Park: Hiking Adventures for Every Explorer\n",
      "\n",
      "The North Cascades National Park beckons with its towering peaks, shimmering turquoise lakes, and dense forests - a landscape sculpted by glaciers and fire, whispering tales of adventure.  Whether you're an experienced hiker seeking a challenging climb or a family looking for a scenic stroll, the park's diverse trails offer something for everyone. \n",
      "\n",
      "**For Families and Beginners:**\n",
      "\n",
      "* **Maple Pass Loop:**  This 7-mile loop, accessible from the Marblemount Ranger District, is a gentle climb with breathtaking views of the Cascade Range, including the iconic \"Maple Pass.\"  Spot wildflowers, marmots, and possibly even a mountain goat along the way.  This trail is perfect for a day trip with kids, offering enough challenges to keep them engaged while remaining manageable for beginners.\n",
      "\n",
      "* **Ross Lake Trail:**  Embrace the serenity of the North Cascades' wilderness on this 5-mile, out-and-back trail.  Meandering along the shores of Ross Lake, this path offers stunning views of the lake and surrounding peaks, making it ideal for a leisurely afternoon stroll with the whole family.  \n",
      "\n",
      "**For Intermediate Hikers:**\n",
      "\n",
      "* **Heather Meadows Trail:**  Start your ascent near the iconic Mount Baker Ski Area and delve into the heart of the wildflower meadows.  This 3-mile trail climbs steadily, rewarding you with spectacular panoramas of Mount Baker and the surrounding peaks.  \n",
      "\n",
      "* **Cascade Pass Trail:**  Embark on a journey through diverse landscapes, from lush forests to rugged alpine meadows.  This challenging, 8-mile roundtrip leads to a scenic pass with awe-inspiring views of the Picket Range.  \n",
      "\n",
      "**For Experienced Hikers:**\n",
      "\n",
      "* **Enchantments Basin Trail:**  Prepare for an epic adventure on this challenging 10-mile roundtrip.  The trail leads to the breathtaking Enchantment Lakes Basin, a high-alpine wonderland with cascading waterfalls, crystal-clear lakes, and stunning mountain views.  \n",
      "\n",
      "* **Colonial Creek Trail to Colonial Peak:**  For seasoned hikers seeking a real challenge, this 8-mile roundtrip boasts over 3000 feet of elevation gain.  The trail winds through subalpine meadows and forests before culminating in stunning views of the surrounding peaks, including the iconic Colonial Peak.\n",
      "\n",
      "**Planning Your Trip:**\n",
      "\n",
      "* **Trailheads and Access:**  \n",
      "    * **Maple Pass Loop:**  Trailhead located at the Marblemount Ranger District, accessible via a 2-hour drive from the town of Winthrop.\n",
      "    * **Ross Lake Trail:**  Trailhead located at the Ross Lake Resort, accessible via a scenic drive along the North Cascades Highway (Highway 20).\n",
      "    * **Heather Meadows Trail:**  Trailhead located near the Mount Baker Ski Area, accessible via a 1-hour drive from Bellingham.\n",
      "    * **Cascade Pass Trail:**  Trailhead located at the Marblemount Ranger District, accessible via a 2-hour drive from the town of Winthrop.\n",
      "    * **Enchantments Basin Trail:**  Trailhead located at the Snow Lakes trailhead, accessible via a scenic drive along the North Cascades Highway (Highway 20).\n",
      "    * **Colonial Creek Trail:**  Trailhead located at the Colonial Creek trailhead, accessible via a 3-hour drive from the town of Winthrop.\n",
      "\n",
      "* **Permit Requirements:**  Some trails, including the Enchantment Basin, require permits due to high visitor volume.  Check the National Park Service website for current requirements and reservation information.\n",
      "\n",
      "* **Backcountry Safety:**  Be prepared for changing weather conditions and pack accordingly.  Carry plenty of water, food, and appropriate gear, including sturdy hiking boots, layers of clothing, and a map and compass. \n",
      "\n",
      "* **Wildlife Encounters:**  Keep a safe distance from wildlife, especially bears and mountain goats.  Store food properly and be aware of your surroundings.\n",
      "\n",
      "* **Budgeting:**  The cost of permits, gear rentals, and transportation can vary depending on your itinerary.  Estimate a budget of $50-$100 per person per day for permits, food, and gear.\n",
      "\n",
      "**The Wild Heart of the Cascades Awaits:**  North Cascades National Park offers a unique opportunity to connect with the wilderness and create unforgettable memories.  From serene lakeside trails to challenging alpine summits, there's a hiking adventure waiting for you. \n",
      "\n"
     ]
    }
   ],
   "source": [
    "rewrite_template = PromptTemplate.from_template(\n",
    "    \"\"\"\n",
    "    You are a travel expert and outdoors guide. \n",
    "    You wrote the following article for an inflight magazine about {topic} in {location}\n",
    "    and received the following feedback from the marketing director.\n",
    "    Improve the article taking into account the feedback.\n",
    "    \n",
    "    Original article:\n",
    "    {article}\n",
    "\n",
    "    Feedback from marketing:\n",
    "    {critique}\n",
    "    \"\"\"\n",
    ")\n",
    "chain3 = rewrite_template | model | parser\n",
    "\n",
    "article2 = chain3.invoke({\n",
    "    \"topic\": \"hiking options\",\n",
    "    \"location\": \"North Cascades National Park\",\n",
    "    \"article\": article,\n",
    "    \"critique\": critique\n",
    "})\n",
    "\n",
    "print(article2)"
   ]
  },
  {
   "cell_type": "markdown",
   "id": "e1ce47c7-1ee7-43eb-8d05-cd856f6d3906",
   "metadata": {},
   "source": [
    "Note how the \"planning your trip\" now has a section:\n",
    "<pre>\n",
    "* **Trailheads and Access:**  \n",
    "    * **Maple Pass Loop:**  Trailhead located at the Marblemount Ranger District, accessible via a 2-hour drive from the town of Winthrop.\n",
    "    * **Ross Lake Trail:**  Trailhead located at the Ross Lake Resort, accessible via a scenic drive along the North Cascades Highway (Highway 20).\n",
    "    * **Heather Meadows Trail:**  Trailhead located near the Mount Baker Ski Area, accessible via a 1-hour drive from Bellingham.\n",
    "    * **Cascade Pass Trail:**  Trailhead located at the Marblemount Ranger District, accessible via a 2-hour drive from the town of Winthrop.\n",
    "    * **Enchantments Basin Trail:**  Trailhead located at the Snow Lakes trailhead, accessible via a scenic drive along the North Cascades Highway (Highway 20).\n",
    "    * **Colonial Creek Trail:**  Trailhead located at the Colonial Creek trailhead, accessible via a 3-hour drive from the town of Winthrop.\n",
    "</pre>\n",
    "\n",
    "and there is now a price section:\n",
    "<pre>\n",
    "*Budgeting:**  The cost of permits, gear rentals, and transportation can vary depending on your itinerary.  Estimate a budget of $50-$100 per person per day for permits, food, and gear.\n",
    "</pre>\n",
    "\n",
    "Both of these are in response to the verbal feedback provided by the self-reflection step."
   ]
  },
  {
   "cell_type": "code",
   "execution_count": null,
   "id": "257e847b-3582-4870-92f9-5735b70d8aba",
   "metadata": {},
   "outputs": [],
   "source": []
  }
 ],
 "metadata": {
  "environment": {
   "kernel": "conda-base-py",
   "name": "workbench-notebooks.m120",
   "type": "gcloud",
   "uri": "us-docker.pkg.dev/deeplearning-platform-release/gcr.io/workbench-notebooks:m120"
  },
  "kernelspec": {
   "display_name": "Python 3 (ipykernel)",
   "language": "python",
   "name": "conda-base-py"
  },
  "language_info": {
   "codemirror_mode": {
    "name": "ipython",
    "version": 3
   },
   "file_extension": ".py",
   "mimetype": "text/x-python",
   "name": "python",
   "nbconvert_exporter": "python",
   "pygments_lexer": "ipython3",
   "version": "3.10.14"
  }
 },
 "nbformat": 4,
 "nbformat_minor": 5
}

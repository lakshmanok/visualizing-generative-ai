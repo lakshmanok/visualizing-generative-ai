{
 "cells": [
  {
   "cell_type": "markdown",
   "id": "e696dfe6-7696-4b95-861b-c0f388405c63",
   "metadata": {},
   "source": [
    "# RAG: Simple generation\n",
    "\n",
    "In [./rag_0_indexing.ipynb](./rag_0_indexing.ipynb), we indexed a geography text book.\n",
    "\n",
    "In this notebook, we ask questions and the RAG system finds us answers."
   ]
  },
  {
   "cell_type": "markdown",
   "id": "11739d13-72a7-43c1-be4a-b001f28aa6a3",
   "metadata": {},
   "source": [
    "## Set up.\n",
    "\n",
    "Install the necessary packages, set up the API keys etc."
   ]
  },
  {
   "cell_type": "code",
   "execution_count": 1,
   "id": "7f4389be-f2e1-468e-866c-40a933b4c1ba",
   "metadata": {
    "tags": []
   },
   "outputs": [],
   "source": [
    "from langchain_core.runnables import RunnablePassthrough\n",
    "from langchain_core.output_parsers import StrOutputParser\n",
    "from langchain_core.prompts import PromptTemplate\n",
    "from langchain.chains import RetrievalQA\n",
    "from langchain_chroma import Chroma\n",
    "from dotenv import load_dotenv\n",
    "from langchain import hub\n",
    "\n",
    "from dotenv import load_dotenv\n",
    "load_dotenv(\"../keys.env\");"
   ]
  },
  {
   "cell_type": "code",
   "execution_count": 2,
   "id": "0403e3b7-1b11-49b7-81ed-a38d7b24ca82",
   "metadata": {
    "tags": []
   },
   "outputs": [],
   "source": [
    "PROVIDER = \"Google\"\n",
    "#PROVIDER = \"OpenAI\"\n",
    "PERSIST_DIR = \"vectordb\""
   ]
  },
  {
   "cell_type": "code",
   "execution_count": 3,
   "id": "2973efb3-40a0-46e4-bd56-252718baed2d",
   "metadata": {
    "tags": []
   },
   "outputs": [],
   "source": [
    "if PROVIDER == \"Google\":\n",
    "    from langchain_google_genai import ChatGoogleGenerativeAI, GoogleGenerativeAIEmbeddings\n",
    "    embeddings = GoogleGenerativeAIEmbeddings(model=\"models/embedding-001\")\n",
    "    model = ChatGoogleGenerativeAI(model=\"gemini-1.5-flash\", temperature=0.1)\n",
    "else:\n",
    "    from langchain_openai import ChatOpenAI, OpenAIEmbeddings\n",
    "    embeddings = OpenAIEmbeddings()\n",
    "    model = ChatOpenAI(model_name=\"gpt-3.5-turbo\", temperature=0.1)"
   ]
  },
  {
   "cell_type": "markdown",
   "id": "93aa859f-de62-4f68-b099-0a848de8c904",
   "metadata": {
    "tags": []
   },
   "source": [
    "## Load the vector db from disk and create a chain to ask questions\n",
    "\n",
    "The question is embedded with the same embedding function as the paragraphs.\n",
    "Similar chunks are found and added to the context.\n",
    "The LLM uses this information to answer the question"
   ]
  },
  {
   "cell_type": "code",
   "execution_count": 4,
   "id": "fc98ec70-95fe-4e6e-8573-7e6805226458",
   "metadata": {
    "tags": []
   },
   "outputs": [],
   "source": [
    "vectorstore = Chroma(embedding_function=embeddings, persist_directory=PERSIST_DIR)\n",
    "retriever = vectorstore.as_retriever(search_kwargs={\"k\": 5})"
   ]
  },
  {
   "cell_type": "code",
   "execution_count": 5,
   "id": "3da9b218-287a-4f6d-aaed-90aae3f3759c",
   "metadata": {
    "tags": []
   },
   "outputs": [
    {
     "data": {
      "text/plain": [
       "[Document(metadata={'paragraph': 1104, 'source': 'geography'}, page_content='The Lias has been divided in England into three groups, the Upper, Middle, and Lower. The Upper Lias consists first of sands, which were formerly regarded as the base of the Oolite, but which, according to Dr. Wright, are by their fossils more properly referable to the Lias; secondly, of clay shale and thin beds of limestone. The Middle Lias, or marl-stone series, has been divided into three zones; and the Lower Lias, according to the labours of Quenstedt, Oppel, Strickland, Wright, and others, into seven zones, each marked by its own group of fossils. This Lower Lias averages from 600 to 900 feet in thickness.'),\n",
       " Document(metadata={'paragraph': 1103, 'source': 'geography'}, page_content='Lias.—The English provincial name of Lias has been very generally adopted for a formation of argillaceous limestone, marl, and clay, which forms the base of the Oolite, and is classed by many geologists as part of that group. The peculiar aspect which is most characteristic of the Lias in England, France, and Germany, is an alternation of thin beds of blue or grey limestone, having a surface which becomes light-brown when weathered, these beds being separated by dark-coloured, narrow argillaceous partings, so that the quarries of this rock, at a distance, assume a striped and ribbon-like appearance.'),\n",
       " Document(metadata={'paragraph': 1091, 'source': 'geography'}, page_content='Palæontological Relations of the Oolitic Strata.—Observations have already been made on the distinctness of the organic remains of the Oolitic and Cretaceous strata, and the proportion of species common to the different members of the Oolite. Between the Lower Oolite and the Lias there is a somewhat greater break, for out of 256 mollusca of the Upper Lias, thirty-seven species only pass up into the Inferior Oolite.'),\n",
       " Document(metadata={'paragraph': 1001, 'source': 'geography'}, page_content='The Upper Oolitic system of the above table has usually the Kimmeridge clay for its base; the Middle Oolitic system, the Oxford clay. The Lower system reposes on the Lias, an argillo-calcareous formation, which some include in the Lower Oolite, but which will be treated of separately in the next chapter. Many of these subdivisions are distinguished by peculiar organic remains; and, though varying in thickness, may be traced in certain directions for great distances, especially if we compare the part of England to which the above-mentioned type refers with the north-east of France and the Jura Mountains adjoining. In that country, distant above 400 geographical miles, the analogy to the accepted English type, notwithstanding the thinness or occasional absence of the clays, is more perfect than in Yorkshire or Normandy.'),\n",
       " Document(metadata={'paragraph': 999, 'source': 'geography'}, page_content='In England generally, and in the greater part of Europe, both the Wealden and Purbeck beds are wanting, and the marine cretaceous group is followed immediately, in the descending order, by another series called the Jurassic. In this term, the formations commonly designated as “the Oolite and Lias” are included, both being found in the Jura Mountains. The Oolite was so named because in the countries where it was first examined the limestones belonging to it had an Oolitic structure (see p. 37). These rocks occupy in England a zone nearly thirty miles in average breadth, which extends across the island, from Yorkshire in the north-east, to Dorsetshire in the south-west. Their mineral characters are not uniform throughout this region; but the following are the names of the principal subdivisions observed in the central and south-eastern parts of England.')]"
      ]
     },
     "execution_count": 5,
     "metadata": {},
     "output_type": "execute_result"
    }
   ],
   "source": [
    "retrieval_chain = RunnablePassthrough() | retriever\n",
    "retrieval_chain.invoke(\"What types of rock do you find in the Upper Lias?\")"
   ]
  },
  {
   "cell_type": "code",
   "execution_count": 6,
   "id": "5781ee78-72cd-4fbd-9fd5-ffe1a3c3e3cb",
   "metadata": {
    "tags": []
   },
   "outputs": [],
   "source": [
    "def add_docs_to_context(docs):\n",
    "    return \"\\n\".join(doc.page_content for doc in docs)"
   ]
  },
  {
   "cell_type": "code",
   "execution_count": 7,
   "id": "29d217fc-4d12-4a21-bc33-d8a74c7d00ab",
   "metadata": {
    "tags": []
   },
   "outputs": [
    {
     "name": "stdout",
     "output_type": "stream",
     "text": [
      "input_variables=['context', 'question'] metadata={'lc_hub_owner': 'rlm', 'lc_hub_repo': 'rag-prompt', 'lc_hub_commit_hash': '50442af133e61576e74536c6556cefe1fac147cad032f4377b60c436e6cdcb6e'} messages=[HumanMessagePromptTemplate(prompt=PromptTemplate(input_variables=['context', 'question'], template=\"You are an assistant for question-answering tasks. Use the following pieces of retrieved context to answer the question. If you don't know the answer, just say that you don't know. Use three sentences maximum and keep the answer concise.\\nQuestion: {question} \\nContext: {context} \\nAnswer:\"))]\n"
     ]
    }
   ],
   "source": [
    "rag_prompt = hub.pull(\"rlm/rag-prompt\")\n",
    "print(rag_prompt)"
   ]
  },
  {
   "cell_type": "code",
   "execution_count": 8,
   "id": "e9e687b9-8082-4782-a0f7-1d62efe1228e",
   "metadata": {
    "tags": []
   },
   "outputs": [],
   "source": [
    "rag_chain = (\n",
    "    {\"context\": retriever | add_docs_to_context, \"question\": RunnablePassthrough()}\n",
    "    | rag_prompt\n",
    "    | model\n",
    "    | StrOutputParser()\n",
    ")"
   ]
  },
  {
   "cell_type": "code",
   "execution_count": 9,
   "id": "39e54061-a136-4a02-a5ae-c3db88841dfb",
   "metadata": {
    "tags": []
   },
   "outputs": [
    {
     "data": {
      "text/plain": [
       "'The Upper Lias consists of sands, clay shale, and thin beds of limestone. These rocks were formerly considered part of the Oolite, but are now classified as Lias due to their fossil content. The Upper Lias is characterized by a distinct set of fossils, with only 37 out of 256 mollusk species found in the Upper Lias also present in the Inferior Oolite. \\n'"
      ]
     },
     "execution_count": 9,
     "metadata": {},
     "output_type": "execute_result"
    }
   ],
   "source": [
    "rag_chain.invoke(\"What types of rock do you find in the Upper Lias?\")"
   ]
  },
  {
   "cell_type": "markdown",
   "id": "26492029-7e34-4879-a345-ffdb0ec9e8b1",
   "metadata": {},
   "source": [
    "## Next step\n",
    "\n",
    "In [./rag_2_bettergen.ipynb](rag_2_bettergen.ipynb), we do a few things that make the RAG generation better."
   ]
  }
 ],
 "metadata": {
  "environment": {
   "kernel": "conda-base-py",
   "name": "workbench-notebooks.m120",
   "type": "gcloud",
   "uri": "us-docker.pkg.dev/deeplearning-platform-release/gcr.io/workbench-notebooks:m120"
  },
  "kernelspec": {
   "display_name": "Python 3 (ipykernel)",
   "language": "python",
   "name": "conda-base-py"
  },
  "language_info": {
   "codemirror_mode": {
    "name": "ipython",
    "version": 3
   },
   "file_extension": ".py",
   "mimetype": "text/x-python",
   "name": "python",
   "nbconvert_exporter": "python",
   "pygments_lexer": "ipython3",
   "version": "3.10.14"
  }
 },
 "nbformat": 4,
 "nbformat_minor": 5
}

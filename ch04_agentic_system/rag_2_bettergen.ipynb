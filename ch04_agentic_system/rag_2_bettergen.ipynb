{
 "cells": [
  {
   "cell_type": "markdown",
   "id": "e696dfe6-7696-4b95-861b-c0f388405c63",
   "metadata": {},
   "source": [
    "# RAG: Better generation\n",
    "\n",
    "In [./rag_0_indexing.ipynb](./rag_0_indexing.ipynb), we indexed a geography text book.\n",
    "In [./rag_1_generation.ipynb](./rag_0_generation.ipynb), we used RAG to answer questions grounded by that text book.\n",
    "\n",
    "In this notebook, we improve the generation."
   ]
  },
  {
   "cell_type": "markdown",
   "id": "11739d13-72a7-43c1-be4a-b001f28aa6a3",
   "metadata": {},
   "source": [
    "## Set up.\n",
    "\n",
    "Install the necessary packages, set up the API keys etc."
   ]
  },
  {
   "cell_type": "code",
   "execution_count": 1,
   "id": "7f4389be-f2e1-468e-866c-40a933b4c1ba",
   "metadata": {
    "tags": []
   },
   "outputs": [],
   "source": [
    "from langchain.retrievers import ContextualCompressionRetriever\n",
    "from langchain.retrievers.document_compressors import FlashrankRerank\n",
    "from langchain_core.runnables import RunnablePassthrough\n",
    "from langchain_core.output_parsers import StrOutputParser\n",
    "from langchain_core.prompts import PromptTemplate\n",
    "from langchain.chains import RetrievalQA\n",
    "from langchain_chroma import Chroma\n",
    "from dotenv import load_dotenv\n",
    "from langchain import hub\n",
    "\n",
    "load_dotenv(\"../keys.env\");"
   ]
  },
  {
   "cell_type": "code",
   "execution_count": 2,
   "id": "0403e3b7-1b11-49b7-81ed-a38d7b24ca82",
   "metadata": {
    "tags": []
   },
   "outputs": [],
   "source": [
    "PROVIDER = \"Google\"\n",
    "#PROVIDER = \"OpenAI\"\n",
    "PERSIST_DIR = \"vectordb\""
   ]
  },
  {
   "cell_type": "code",
   "execution_count": 3,
   "id": "2973efb3-40a0-46e4-bd56-252718baed2d",
   "metadata": {
    "tags": []
   },
   "outputs": [],
   "source": [
    "if PROVIDER == \"Google\":\n",
    "    from langchain_google_genai import ChatGoogleGenerativeAI, GoogleGenerativeAIEmbeddings\n",
    "    embeddings = GoogleGenerativeAIEmbeddings(model=\"models/embedding-001\")\n",
    "    model = ChatGoogleGenerativeAI(model=\"gemini-1.5-flash\", temperature=0.1)\n",
    "else:\n",
    "    from langchain_openai import ChatOpenAI, OpenAIEmbeddings\n",
    "    embeddings = OpenAIEmbeddings()\n",
    "    model = ChatOpenAI(model_name=\"gpt-3.5-turbo\", temperature=0.1)"
   ]
  },
  {
   "cell_type": "markdown",
   "id": "93aa859f-de62-4f68-b099-0a848de8c904",
   "metadata": {
    "tags": []
   },
   "source": [
    "## Hypothetical answer\n",
    "\n",
    "We use the RAG to generate an answer to the question, and search the vector store for things that are semantically similar to that answer."
   ]
  },
  {
   "cell_type": "code",
   "execution_count": 4,
   "id": "b57b9c8b-ac64-462b-91dc-1b9975ed1821",
   "metadata": {
    "tags": []
   },
   "outputs": [
    {
     "data": {
      "text/plain": [
       "'The Upper Lias is a geological formation known for its rich fossil content.  It primarily consists of **claystone and limestone**, with some **shale and sandstone** also present. These rocks were formed in a marine environment during the Jurassic period. \\n'"
      ]
     },
     "execution_count": 4,
     "metadata": {},
     "output_type": "execute_result"
    }
   ],
   "source": [
    "hyp_prompt = \"\"\"\n",
    "Answer the following question concisely in 3 sentences or less.\n",
    "If you don't know the correct answer, provide the most likely answer.\n",
    "\n",
    "Question:\n",
    "{question}\n",
    "\"\"\"\n",
    "\n",
    "hypothetical_answer = (\n",
    "    {\n",
    "        \"question\" : RunnablePassthrough()\n",
    "    }\n",
    "    | PromptTemplate.from_template(hyp_prompt)\n",
    "    | model\n",
    "    | StrOutputParser()\n",
    ")\n",
    "hypothetical_answer.invoke(\"What types of rock do you find in the Upper Lias?\")"
   ]
  },
  {
   "cell_type": "markdown",
   "id": "6bc14c09-73b3-46e4-bd34-32be38910442",
   "metadata": {},
   "source": [
    "# Build a RAG chain using the hypothetical answer"
   ]
  },
  {
   "cell_type": "code",
   "execution_count": 5,
   "id": "fc98ec70-95fe-4e6e-8573-7e6805226458",
   "metadata": {
    "tags": []
   },
   "outputs": [],
   "source": [
    "vectorstore = Chroma(embedding_function=embeddings, persist_directory=PERSIST_DIR)\n",
    "retriever = vectorstore.as_retriever(search_kwargs={\"k\": 5})"
   ]
  },
  {
   "cell_type": "code",
   "execution_count": 6,
   "id": "3da9b218-287a-4f6d-aaed-90aae3f3759c",
   "metadata": {
    "tags": []
   },
   "outputs": [
    {
     "data": {
      "text/plain": [
       "[Document(metadata={'paragraph': 26, 'source': 'geography'}, page_content='Chapter XX—JURASSIC GROUP, CONTINUED.—LIAS. Mineral Character of Lias. — Numerous successive Zones in the Lias, marked by distinct Fossils, without Unconformity in the Stratification, or Change in the Mineral Character of the Deposits. — Gryphite Limestone. — Shells of the Lias. — Fish of the Lias. — Reptiles of the Lias. — Ichthyosaur and Plesiosaur. — Marine Reptile of the Galapagos Islands. — Sudden Destruction and Burial of Fossil Animals in Lias. — Fluvio-marine Beds in Gloucestershire, and Insect Limestone. — Fossil Plants. — The origin of the Oolite and Lias, and of alternating Calcareous and Argillaceous Formations.'),\n",
       " Document(metadata={'paragraph': 1103, 'source': 'geography'}, page_content='Lias.—The English provincial name of Lias has been very generally adopted for a formation of argillaceous limestone, marl, and clay, which forms the base of the Oolite, and is classed by many geologists as part of that group. The peculiar aspect which is most characteristic of the Lias in England, France, and Germany, is an alternation of thin beds of blue or grey limestone, having a surface which becomes light-brown when weathered, these beds being separated by dark-coloured, narrow argillaceous partings, so that the quarries of this rock, at a distance, assume a striped and ribbon-like appearance.'),\n",
       " Document(metadata={'paragraph': 1102, 'source': 'geography'}, page_content='Mineral Character of Lias. — Numerous successive Zones in the Lias, marked by distinct Fossils, without Unconformity in the Stratification, or Change in the Mineral Character of the Deposits. — Gryphite Limestone. — Shells of the Lias. — Fish of the Lias. — Reptiles of the Lias. — Ichthyosaur and Plesiosaur. — Marine Reptile of the Galapagos Islands. — Sudden Destruction and Burial of Fossil Animals in Lias. — Fluvio-marine Beds in Gloucestershire, and Insect Limestone. — Fossil Plants. — The origin of the Oolite and Lias, and of alternating Calcareous and Argillaceous Formations.'),\n",
       " Document(metadata={'paragraph': 1091, 'source': 'geography'}, page_content='Palæontological Relations of the Oolitic Strata.—Observations have already been made on the distinctness of the organic remains of the Oolitic and Cretaceous strata, and the proportion of species common to the different members of the Oolite. Between the Lower Oolite and the Lias there is a somewhat greater break, for out of 256 mollusca of the Upper Lias, thirty-seven species only pass up into the Inferior Oolite.'),\n",
       " Document(metadata={'paragraph': 1104, 'source': 'geography'}, page_content='The Lias has been divided in England into three groups, the Upper, Middle, and Lower. The Upper Lias consists first of sands, which were formerly regarded as the base of the Oolite, but which, according to Dr. Wright, are by their fossils more properly referable to the Lias; secondly, of clay shale and thin beds of limestone. The Middle Lias, or marl-stone series, has been divided into three zones; and the Lower Lias, according to the labours of Quenstedt, Oppel, Strickland, Wright, and others, into seven zones, each marked by its own group of fossils. This Lower Lias averages from 600 to 900 feet in thickness.')]"
      ]
     },
     "execution_count": 6,
     "metadata": {},
     "output_type": "execute_result"
    }
   ],
   "source": [
    "retrieval_chain = hypothetical_answer | retriever\n",
    "retrieval_chain.invoke(\"What types of rock do you find in the Upper Lias?\")"
   ]
  },
  {
   "cell_type": "code",
   "execution_count": 7,
   "id": "5781ee78-72cd-4fbd-9fd5-ffe1a3c3e3cb",
   "metadata": {
    "tags": []
   },
   "outputs": [],
   "source": [
    "def add_docs_to_context(docs):\n",
    "    return \"\\n\".join(doc.page_content for doc in docs)"
   ]
  },
  {
   "cell_type": "code",
   "execution_count": 8,
   "id": "29d217fc-4d12-4a21-bc33-d8a74c7d00ab",
   "metadata": {
    "tags": []
   },
   "outputs": [
    {
     "name": "stdout",
     "output_type": "stream",
     "text": [
      "input_variables=['context', 'question'] metadata={'lc_hub_owner': 'rlm', 'lc_hub_repo': 'rag-prompt', 'lc_hub_commit_hash': '50442af133e61576e74536c6556cefe1fac147cad032f4377b60c436e6cdcb6e'} messages=[HumanMessagePromptTemplate(prompt=PromptTemplate(input_variables=['context', 'question'], template=\"You are an assistant for question-answering tasks. Use the following pieces of retrieved context to answer the question. If you don't know the answer, just say that you don't know. Use three sentences maximum and keep the answer concise.\\nQuestion: {question} \\nContext: {context} \\nAnswer:\"))]\n"
     ]
    }
   ],
   "source": [
    "rag_prompt = hub.pull(\"rlm/rag-prompt\")\n",
    "print(rag_prompt)"
   ]
  },
  {
   "cell_type": "code",
   "execution_count": 9,
   "id": "e9e687b9-8082-4782-a0f7-1d62efe1228e",
   "metadata": {
    "tags": []
   },
   "outputs": [],
   "source": [
    "rag_chain = (\n",
    "    {\"context\": retrieval_chain | add_docs_to_context, \"question\": RunnablePassthrough()}\n",
    "    | rag_prompt\n",
    "    | model\n",
    "    | StrOutputParser()\n",
    ")"
   ]
  },
  {
   "cell_type": "code",
   "execution_count": 10,
   "id": "39e54061-a136-4a02-a5ae-c3db88841dfb",
   "metadata": {
    "tags": []
   },
   "outputs": [
    {
     "data": {
      "text/plain": [
       "'The Upper Lias consists primarily of sands, clay shale, and thin beds of limestone. These layers are characterized by distinct fossils, which help to differentiate them from other Lias formations. The Upper Lias is considered the base of the Oolite by some geologists. \\n'"
      ]
     },
     "execution_count": 10,
     "metadata": {},
     "output_type": "execute_result"
    }
   ],
   "source": [
    "rag_chain.invoke(\"What types of rock do you find in the Upper Lias?\")"
   ]
  },
  {
   "cell_type": "markdown",
   "id": "cb0ffaf8-21a5-4b1d-b87a-af055febde99",
   "metadata": {},
   "source": [
    "## Rerank the retrieved documents\n"
   ]
  },
  {
   "cell_type": "code",
   "execution_count": 12,
   "id": "3e87983e-2921-43a5-a5dc-2dbb01ef4f53",
   "metadata": {
    "tags": []
   },
   "outputs": [
    {
     "data": {
      "text/plain": [
       "'The Upper Lias consists primarily of sands, clay shale, and thin beds of limestone. These formations were once considered part of the Oolite but are now classified as Lias due to their fossil content. The Upper Lias is the uppermost layer of the Lias group, which is a formation of argillaceous limestone, marl, and clay. \\n'"
      ]
     },
     "execution_count": 12,
     "metadata": {},
     "output_type": "execute_result"
    }
   ],
   "source": [
    "# add reranking to the retrieval chain\n",
    "compressor = FlashrankRerank()\n",
    "compression_retriever = ContextualCompressionRetriever(\n",
    "    base_compressor=compressor, base_retriever=retriever\n",
    ")\n",
    "retrieval_chain = hypothetical_answer | compression_retriever\n",
    "\n",
    "# rest is the same\n",
    "rag_chain = (\n",
    "    {\"context\": retrieval_chain | add_docs_to_context, \"question\": RunnablePassthrough()}\n",
    "    | rag_prompt\n",
    "    | model\n",
    "    | StrOutputParser()\n",
    ")\n",
    "\n",
    "rag_chain.invoke(\"What types of rock do you find in the Upper Lias?\")"
   ]
  },
  {
   "cell_type": "code",
   "execution_count": null,
   "id": "47145053-5c5a-42b4-8704-dd922ad0d489",
   "metadata": {},
   "outputs": [],
   "source": []
  }
 ],
 "metadata": {
  "environment": {
   "kernel": "conda-base-py",
   "name": "workbench-notebooks.m120",
   "type": "gcloud",
   "uri": "us-docker.pkg.dev/deeplearning-platform-release/gcr.io/workbench-notebooks:m120"
  },
  "kernelspec": {
   "display_name": "Python 3 (ipykernel)",
   "language": "python",
   "name": "conda-base-py"
  },
  "language_info": {
   "codemirror_mode": {
    "name": "ipython",
    "version": 3
   },
   "file_extension": ".py",
   "mimetype": "text/x-python",
   "name": "python",
   "nbconvert_exporter": "python",
   "pygments_lexer": "ipython3",
   "version": "3.10.14"
  }
 },
 "nbformat": 4,
 "nbformat_minor": 5
}

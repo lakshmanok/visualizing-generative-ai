{
 "cells": [
  {
   "cell_type": "markdown",
   "id": "c8616aa7-cc1f-4781-8d8e-81f0be58a07c",
   "metadata": {
    "tags": []
   },
   "source": [
    "# Tool use, using langchain\n",
    "\n",
    "This notebook demonstrates tool use, using langchain"
   ]
  },
  {
   "cell_type": "code",
   "execution_count": 1,
   "id": "bd69fc04-0efe-451e-93a8-1a6a19ae6e2e",
   "metadata": {
    "tags": []
   },
   "outputs": [],
   "source": [
    "#%pip install -qU langchain-google-vertexai py_expression_eval"
   ]
  },
  {
   "cell_type": "code",
   "execution_count": 1,
   "id": "926c7cb8-b6da-4a05-8f6c-debe86ae5aff",
   "metadata": {
    "tags": []
   },
   "outputs": [],
   "source": [
    "from dotenv import load_dotenv\n",
    "\n",
    "load_dotenv(\"../genai_agents/keys.env\");"
   ]
  },
  {
   "cell_type": "code",
   "execution_count": 2,
   "id": "73a90ad6-05ea-4e5e-b0a5-8cdf28c8b184",
   "metadata": {
    "tags": []
   },
   "outputs": [
    {
     "name": "stderr",
     "output_type": "stream",
     "text": [
      "/opt/conda/lib/python3.10/site-packages/langgraph/graph/graph.py:30: LangChainDeprecationWarning: As of langchain-core 0.3.0, LangChain uses pydantic v2 internally. The langchain_core.pydantic_v1 module was a compatibility shim for pydantic v1, and should no longer be used. Please update the code to import from Pydantic directly.\n",
      "\n",
      "For example, replace imports like: `from langchain_core.pydantic_v1 import BaseModel`\n",
      "with: `from pydantic import BaseModel`\n",
      "or the v1 compatibility namespace if you are working in a code base that has not been fully upgraded to pydantic 2 yet. \tfrom pydantic.v1 import BaseModel\n",
      "\n",
      "  from langgraph.pregel import Channel, Pregel\n"
     ]
    }
   ],
   "source": [
    "from langchain_core.tools import tool\n",
    "from py_expression_eval import Parser\n",
    "from langchain_google_vertexai import ChatVertexAI\n",
    "from langgraph.prebuilt import create_react_agent\n",
    "from langchain_core.messages import HumanMessage"
   ]
  },
  {
   "cell_type": "markdown",
   "id": "661b9831-5325-4199-b417-0a718ab89f6d",
   "metadata": {},
   "source": [
    "## 1. Create a tool. This tool will evaluate math formulas"
   ]
  },
  {
   "cell_type": "code",
   "execution_count": 3,
   "id": "91d4c098-8190-41d8-a991-007e58427399",
   "metadata": {},
   "outputs": [
    {
     "data": {
      "text/plain": [
       "2.0"
      ]
     },
     "execution_count": 3,
     "metadata": {},
     "output_type": "execute_result"
    }
   ],
   "source": [
    "@tool\n",
    "def calculate(formula: str, parameters: dict) -> float:\n",
    "    \"\"\"Calculate by applying a mathematical formula to a set of input parameters\"\"\"\n",
    "    parser = Parser()\n",
    "    return parser.parse(formula).evaluate(parameters)\n",
    "\n",
    "calculate.invoke({\n",
    "    'formula': \"(-b + sqrt(b^2 - 4*a*c))/(2*a)\", \n",
    "    'parameters': {'a': 1.0, 'b': 1.0, 'c': -6.0}\n",
    "})\n",
    "#calculate(\"(-b + sqrt(b^2 - 4*a*c))/(2*a)\", {'a': 1.0, 'b': 1.0, 'c': -6.0})"
   ]
  },
  {
   "cell_type": "markdown",
   "id": "2887412e-c2df-4fc3-b486-8da7247ea4f0",
   "metadata": {},
   "source": [
    "## 2. Use the LLM on a question that requires some math evaluation"
   ]
  },
  {
   "cell_type": "code",
   "execution_count": 10,
   "id": "42fc485e-97e2-4669-b4fd-ba34f9accfa8",
   "metadata": {
    "tags": []
   },
   "outputs": [
    {
     "name": "stdout",
     "output_type": "stream",
     "text": [
      "{'messages': [HumanMessage(content='\\n    You are a financial expert who can write down the appropriate formula and\\n    apply the mathematical formula to calculate the desired value.\\n    \\n    Question:\\n    If I invest $1000 in the stock market, and it returns 7% annually, and\\n    I reinvest the returns, how much money will I have in 6 years?\\n    \\n    Answer:\\n    ', additional_kwargs={}, response_metadata={}, id='0b358991-b6fa-464e-98d9-f735d6955f5a'), AIMessage(content='', additional_kwargs={'function_call': {'name': 'calculate', 'arguments': '{\"formula\": \"principal * (1 + rate) ^ years\", \"parameters\": {\"principal\": 1000.0, \"rate\": 0.07, \"years\": 6.0}}'}}, response_metadata={'is_blocked': False, 'safety_ratings': [{'category': 'HARM_CATEGORY_HATE_SPEECH', 'probability_label': 'NEGLIGIBLE', 'blocked': False, 'severity': 'HARM_SEVERITY_NEGLIGIBLE'}, {'category': 'HARM_CATEGORY_DANGEROUS_CONTENT', 'probability_label': 'NEGLIGIBLE', 'blocked': False, 'severity': 'HARM_SEVERITY_NEGLIGIBLE'}, {'category': 'HARM_CATEGORY_HARASSMENT', 'probability_label': 'NEGLIGIBLE', 'blocked': False, 'severity': 'HARM_SEVERITY_NEGLIGIBLE'}, {'category': 'HARM_CATEGORY_SEXUALLY_EXPLICIT', 'probability_label': 'NEGLIGIBLE', 'blocked': False, 'severity': 'HARM_SEVERITY_NEGLIGIBLE'}], 'usage_metadata': {'prompt_token_count': 100, 'candidates_token_count': 15, 'total_token_count': 115, 'cached_content_token_count': 0}, 'finish_reason': 'STOP'}, id='run-cb2c062e-9aac-440e-90cf-41b48efda998-0', tool_calls=[{'name': 'calculate', 'args': {'formula': 'principal * (1 + rate) ^ years', 'parameters': {'principal': 1000.0, 'rate': 0.07, 'years': 6.0}}, 'id': 'e6282d5f-6a97-41d5-9cca-218c23dbbd03', 'type': 'tool_call'}], usage_metadata={'input_tokens': 100, 'output_tokens': 15, 'total_tokens': 115}), ToolMessage(content='1500.7303518490005', name='calculate', id='1dc93d2e-6430-4fb9-8662-09b8179d779d', tool_call_id='e6282d5f-6a97-41d5-9cca-218c23dbbd03'), AIMessage(content='You will have $1500.73 in 6 years. \\n', additional_kwargs={}, response_metadata={'is_blocked': False, 'safety_ratings': [{'category': 'HARM_CATEGORY_HATE_SPEECH', 'probability_label': 'NEGLIGIBLE', 'blocked': False, 'severity': 'HARM_SEVERITY_NEGLIGIBLE'}, {'category': 'HARM_CATEGORY_DANGEROUS_CONTENT', 'probability_label': 'NEGLIGIBLE', 'blocked': False, 'severity': 'HARM_SEVERITY_LOW'}, {'category': 'HARM_CATEGORY_HARASSMENT', 'probability_label': 'NEGLIGIBLE', 'blocked': False, 'severity': 'HARM_SEVERITY_NEGLIGIBLE'}, {'category': 'HARM_CATEGORY_SEXUALLY_EXPLICIT', 'probability_label': 'NEGLIGIBLE', 'blocked': False, 'severity': 'HARM_SEVERITY_NEGLIGIBLE'}], 'usage_metadata': {'prompt_token_count': 135, 'candidates_token_count': 18, 'total_token_count': 153, 'cached_content_token_count': 0}, 'finish_reason': 'STOP'}, id='run-d6d2a016-e0d9-41db-986b-7920fad4ebfb-0', usage_metadata={'input_tokens': 135, 'output_tokens': 18, 'total_tokens': 153})]}\n"
     ]
    }
   ],
   "source": [
    "model = ChatVertexAI(model=\"gemini-1.5-flash\")\n",
    "agent_executor = create_react_agent(model, [calculate])\n",
    "\n",
    "prompt_message = HumanMessage(content=\"\"\"\n",
    "    You are a financial expert who can write down the appropriate formula and\n",
    "    apply the mathematical formula to calculate the desired value.\n",
    "    \n",
    "    Question:\n",
    "    If I invest $1000 in the stock market, and it returns 7% annually, and\n",
    "    I reinvest the returns, how much money will I have in 6 years?\n",
    "    \n",
    "    Answer:\n",
    "    \"\"\"\n",
    ")\n",
    "response = agent_executor.invoke({\"messages\": [prompt_message]})\n",
    "\n",
    "print(response)"
   ]
  },
  {
   "cell_type": "code",
   "execution_count": 12,
   "id": "f858dba0-87a6-44e7-bc25-770d00a9f43b",
   "metadata": {
    "tags": []
   },
   "outputs": [
    {
     "name": "stdout",
     "output_type": "stream",
     "text": [
      "******* <class 'langchain_core.messages.human.HumanMessage'>\n",
      "\n",
      "    You are a financial expert who can write down the appropriate formula and\n",
      "    apply the mathematical formula to calculate the desired value.\n",
      "    \n",
      "    Question:\n",
      "    If I invest $1000 in the stock market, and it returns 7% annually, and\n",
      "    I reinvest the returns, how much money will I have in 6 years?\n",
      "    \n",
      "    Answer:\n",
      "    \n",
      "{}\n",
      "******* <class 'langchain_core.messages.ai.AIMessage'>\n",
      "\n",
      "{'function_call': {'name': 'calculate', 'arguments': '{\"formula\": \"principal * (1 + rate) ^ years\", \"parameters\": {\"principal\": 1000.0, \"rate\": 0.07, \"years\": 6.0}}'}}\n",
      "******* <class 'langchain_core.messages.tool.ToolMessage'>\n",
      "1500.7303518490005\n",
      "{}\n",
      "******* <class 'langchain_core.messages.ai.AIMessage'>\n",
      "You will have $1500.73 in 6 years. \n",
      "\n",
      "{}\n"
     ]
    }
   ],
   "source": [
    "for message in response['messages']:\n",
    "    print(\"*******\", type(message))\n",
    "    print(message.content)\n",
    "    print(message.additional_kwargs)"
   ]
  },
  {
   "cell_type": "markdown",
   "id": "24cf81b1-7a16-4c18-bd3e-58341f48545c",
   "metadata": {},
   "source": [
    "**Analysis**\n",
    "\n",
    "Note that the LLM created the formula:  <pre>principal * (1 + rate) ^ years</pre>\n",
    "and invoked the tool <pre>calculate</pre> to get the exact answer, which is $1500.73."
   ]
  },
  {
   "cell_type": "code",
   "execution_count": null,
   "id": "cef379e0-1933-458b-a627-5765f905f94f",
   "metadata": {},
   "outputs": [],
   "source": []
  }
 ],
 "metadata": {
  "environment": {
   "kernel": "conda-base-py",
   "name": "workbench-notebooks.m120",
   "type": "gcloud",
   "uri": "us-docker.pkg.dev/deeplearning-platform-release/gcr.io/workbench-notebooks:m120"
  },
  "kernelspec": {
   "display_name": "Python 3 (ipykernel)",
   "language": "python",
   "name": "conda-base-py"
  },
  "language_info": {
   "codemirror_mode": {
    "name": "ipython",
    "version": 3
   },
   "file_extension": ".py",
   "mimetype": "text/x-python",
   "name": "python",
   "nbconvert_exporter": "python",
   "pygments_lexer": "ipython3",
   "version": "3.10.14"
  }
 },
 "nbformat": 4,
 "nbformat_minor": 5
}

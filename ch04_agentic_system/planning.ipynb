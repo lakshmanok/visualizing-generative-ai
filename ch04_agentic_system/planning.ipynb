{
 "cells": [
  {
   "cell_type": "markdown",
   "id": "c8616aa7-cc1f-4781-8d8e-81f0be58a07c",
   "metadata": {
    "tags": []
   },
   "source": [
    "# Planning\n",
    "\n",
    "This notebook demonstrates planning using CoT."
   ]
  },
  {
   "cell_type": "code",
   "execution_count": 1,
   "id": "bd69fc04-0efe-451e-93a8-1a6a19ae6e2e",
   "metadata": {
    "tags": []
   },
   "outputs": [],
   "source": [
    "#%pip install -qU langchain-google-vertexai"
   ]
  },
  {
   "cell_type": "code",
   "execution_count": 1,
   "id": "926c7cb8-b6da-4a05-8f6c-debe86ae5aff",
   "metadata": {
    "tags": []
   },
   "outputs": [],
   "source": [
    "from dotenv import load_dotenv\n",
    "\n",
    "load_dotenv(\"../genai_agents/keys.env\");"
   ]
  },
  {
   "cell_type": "code",
   "execution_count": 2,
   "id": "91d4c098-8190-41d8-a991-007e58427399",
   "metadata": {},
   "outputs": [],
   "source": [
    "from langchain_core.prompts import PromptTemplate\n",
    "from langchain_google_vertexai import ChatVertexAI\n",
    "from langchain_core.output_parsers import StrOutputParser"
   ]
  },
  {
   "cell_type": "markdown",
   "id": "2887412e-c2df-4fc3-b486-8da7247ea4f0",
   "metadata": {},
   "source": [
    "## 1. LLMs are improving ...\n",
    "\n",
    "for many questions, they will do a chain-of-thought and come up with the right answer."
   ]
  },
  {
   "cell_type": "code",
   "execution_count": 3,
   "id": "42fc485e-97e2-4669-b4fd-ba34f9accfa8",
   "metadata": {
    "tags": []
   },
   "outputs": [],
   "source": [
    "model = ChatVertexAI(model=\"gemini-1.5-flash\")\n",
    "\n",
    "def ask_question(question, chain_of_thought=False):\n",
    "    if chain_of_thought:\n",
    "        preamble = \"\"\"\n",
    "        Write down the steps to solve this question, and work through the steps\n",
    "        one-by-one to come up with the answer\n",
    "        \"\"\"\n",
    "    else:\n",
    "        preamble = \"\"\n",
    "   \n",
    "    prompt_template = PromptTemplate.from_template(\n",
    "        preamble + \"{question}\"\n",
    "    )\n",
    "    parser = StrOutputParser()\n",
    "    chain = prompt_template | model | parser\n",
    "\n",
    "    answer = chain.invoke({\n",
    "        \"question\": question,\n",
    "    })\n",
    "    print(answer)"
   ]
  },
  {
   "cell_type": "code",
   "execution_count": 6,
   "id": "2b77f4aa-7851-43a7-8865-18463bdbf2c4",
   "metadata": {
    "tags": []
   },
   "outputs": [
    {
     "name": "stdout",
     "output_type": "stream",
     "text": [
      "Here's how to solve this:\n",
      "\n",
      "1. **Third most populated state:**  The third most populated state in the US is Florida.\n",
      "2. **Capital of Florida:** The capital of Florida is Tallahassee.\n",
      "3. **Mayor of Tallahassee:** The current Mayor of Tallahassee is  **John Dailey**. \n",
      "\n",
      "Therefore, the Mayor of the capital of the third most populated state in the United States is **John Dailey**. \n",
      "\n"
     ]
    }
   ],
   "source": [
    "ask_question(\"Who is the Mayor of the capital of the third most populated state in the United States?\")"
   ]
  },
  {
   "cell_type": "markdown",
   "id": "1f143097-cd2f-4bd8-b1be-ad848420cfb3",
   "metadata": {},
   "source": [
    "## List and Count"
   ]
  },
  {
   "cell_type": "code",
   "execution_count": 8,
   "id": "89ace0bb-85ef-4db7-8400-55ce49765d56",
   "metadata": {
    "tags": []
   },
   "outputs": [
    {
     "name": "stdout",
     "output_type": "stream",
     "text": [
      "There are **zero** states in the US that have capital cities that end in \"City\". \n",
      "\n",
      "While many state capitals have \"City\" in their names (e.g., Oklahoma City,  Phoenix City, etc.),  none of them end with \"City\". \n",
      "\n"
     ]
    }
   ],
   "source": [
    "ask_question(\"How many states in the US have capital cities that end in City?\",\n",
    "            chain_of_thought=False)"
   ]
  },
  {
   "cell_type": "code",
   "execution_count": 7,
   "id": "20f1ca60-5bf2-457c-9923-576f8a4ecddc",
   "metadata": {
    "tags": []
   },
   "outputs": [
    {
     "name": "stdout",
     "output_type": "stream",
     "text": [
      "Here's how we can solve this:\n",
      "\n",
      "**Steps:**\n",
      "\n",
      "1. **List US states and their capitals:** We need to know the capital cities of all US states. \n",
      "2. **Identify capitals ending in \"City\":**  We'll go through our list and check if each capital ends in \"City\".\n",
      "3. **Count the matching capitals:** We'll keep track of how many capitals we find that end in \"City\".\n",
      "\n",
      "**Let's do it:**\n",
      "\n",
      "1. **List of US states and capitals:**  (You can use a reference like Wikipedia or a list of US states and capitals)\n",
      "\n",
      "2. **Identify capitals ending in \"City\":**\n",
      "\n",
      "   * **Alabama:** Montgomery (No)\n",
      "   * **Alaska:** Juneau (No)\n",
      "   * **Arizona:** Phoenix (No) \n",
      "   * **Arkansas:** Little Rock (No) \n",
      "   * ...  (Continue going through all the states)\n",
      "\n",
      "3. **Count the matching capitals:** As we go through the list, we find:\n",
      "\n",
      "   * **Kansas:** Topeka (No)\n",
      "   * **Missouri:** Jefferson City (Yes!)\n",
      "   * **New York:** Albany (No)\n",
      "   * **Oklahoma:** Oklahoma City (Yes!) \n",
      "\n",
      "   ... and so on.\n",
      "\n",
      "**Answer:** After going through all the states, we find that **two** US states have capitals that end in \"City\":\n",
      "\n",
      "* **Missouri:** Jefferson City\n",
      "* **Oklahoma:** Oklahoma City \n",
      "\n"
     ]
    }
   ],
   "source": [
    "ask_question(\"How many states in the US have capital cities that end in City?\",\n",
    "            chain_of_thought=True)"
   ]
  },
  {
   "cell_type": "code",
   "execution_count": 7,
   "id": "dffdcbdf-895d-4360-af0d-9da6097081c2",
   "metadata": {},
   "outputs": [
    {
     "name": "stdout",
     "output_type": "stream",
     "text": [
      "1. Create a list of all US states.\n",
      "2. Create a list of all US state capitals.\n",
      "3. Iterate through the list of state capitals.\n",
      "4. For each capital, check if it ends with \"City\".\n",
      "5. If it does, increment a counter.\n",
      "6. Return the final value of the counter. \n",
      "\n"
     ]
    }
   ],
   "source": [
    "## List and Count using Dynamic Planning\n",
    "def create_plan(question): \n",
    "    plan_template = PromptTemplate.from_template(\n",
    "       \"\"\"What are the steps to solve the following question?\n",
    "        Do not provide the answer, only the steps. Return the result\n",
    "        as a list\n",
    "        {question}\n",
    "        \"\"\"\n",
    "    )\n",
    "    parser = StrOutputParser()\n",
    "    chain = plan_template | model | parser\n",
    "    answer = chain.invoke({\n",
    "        \"question\": question,\n",
    "    })\n",
    "    return (answer)\n",
    "\n",
    "plan = create_plan(\"How many states in the US have capital cities that end in City?\")\n",
    "print(plan)"
   ]
  },
  {
   "cell_type": "code",
   "execution_count": 37,
   "id": "d1560997-9ce9-4234-a86f-63f1f03003e3",
   "metadata": {
    "tags": []
   },
   "outputs": [
    {
     "name": "stdout",
     "output_type": "stream",
     "text": [
      "```python\n",
      "def count_capitals_ending_with_city():\n",
      "  \"\"\"\n",
      "  Counts the number of US state capitals that end with \"City\".\n",
      "\n",
      "  Returns:\n",
      "    int: The count of capitals ending with \"City\".\n",
      "  \"\"\"\n",
      "\n",
      "  states = [\"Alabama\", \"Alaska\", \"Arizona\", \"Arkansas\", \"California\", \"Colorado\", \"Connecticut\", \n",
      "            \"Delaware\", \"Florida\", \"Georgia\", \"Hawaii\", \"Idaho\", \"Illinois\", \"Indiana\", \"Iowa\", \n",
      "            \"Kansas\", \"Kentucky\", \"Louisiana\", \"Maine\", \"Maryland\", \"Massachusetts\", \"Michigan\", \n",
      "            \"Minnesota\", \"Mississippi\", \"Missouri\", \"Montana\", \"Nebraska\", \"Nevada\", \"New Hampshire\", \n",
      "            \"New Jersey\", \"New Mexico\", \"New York\", \"North Carolina\", \"North Dakota\", \"Ohio\", \n",
      "            \"Oklahoma\", \"Oregon\", \"Pennsylvania\", \"Rhode Island\", \"South Carolina\", \"South Dakota\", \n",
      "            \"Tennessee\", \"Texas\", \"Utah\", \"Vermont\", \"Virginia\", \"Washington\", \"West Virginia\", \n",
      "            \"Wisconsin\", \"Wyoming\"]\n",
      "\n",
      "  capitals = [\"Montgomery\", \"Juneau\", \"Phoenix\", \"Little Rock\", \"Sacramento\", \"Denver\", \"Hartford\", \n",
      "              \"Dover\", \"Tallahassee\", \"Atlanta\", \"Honolulu\", \"Boise\", \"Springfield\", \"Indianapolis\", \n",
      "              \"Des Moines\", \"Topeka\", \"Frankfort\", \"Baton Rouge\", \"Augusta\", \"Annapolis\", \"Boston\", \n",
      "              \"Lansing\", \"Saint Paul\", \"Jackson\", \"Jefferson City\", \"Helena\", \"Lincoln\", \"Carson City\", \n",
      "              \"Concord\", \"Trenton\", \"Santa Fe\", \"Albany\", \"Raleigh\", \"Bismarck\", \"Columbus\", \n",
      "              \"Oklahoma City\", \"Salem\", \"Harrisburg\", \"Providence\", \"Columbia\", \"Pierre\", \"Nashville\", \n",
      "              \"Austin\", \"Salt Lake City\", \"Montpelier\", \"Richmond\", \"Olympia\", \"Charleston\", \n",
      "              \"Madison\", \"Cheyenne\"]\n",
      "\n",
      "  count = 0\n",
      "  for capital in capitals:\n",
      "    if capital.endswith(\"City\"):\n",
      "      count += 1\n",
      "\n",
      "  return count\n",
      "\n",
      "# Example usage:\n",
      "city_count = count_capitals_ending_with_city()\n",
      "print(f\"Number of US state capitals ending with 'City': {city_count}\")\n",
      "```\n",
      "\n"
     ]
    }
   ],
   "source": [
    "def convert_to_code(plan): \n",
    "    step_template = PromptTemplate.from_template(\n",
    "       \"\"\"\n",
    "       Convert the following steps into a Python function.\n",
    "       {plan}\n",
    "        \"\"\"\n",
    "    )\n",
    "    parser = StrOutputParser()\n",
    "    chain = step_template | model | parser\n",
    "    answer = chain.invoke({\"plan\": plan})\n",
    "    return (answer)\n",
    "\n",
    "code = convert_to_code(plan)\n",
    "print(code)"
   ]
  },
  {
   "cell_type": "code",
   "execution_count": 39,
   "id": "998881a3-96b4-4bcc-bc71-99112a4b255b",
   "metadata": {
    "tags": []
   },
   "outputs": [
    {
     "name": "stdout",
     "output_type": "stream",
     "text": [
      "Number of US state capitals ending with 'City': 4\n"
     ]
    }
   ],
   "source": [
    "exec('\\n'.join(code.split('\\n')[1:-2]))"
   ]
  },
  {
   "cell_type": "code",
   "execution_count": null,
   "id": "d1f4968a-e0f2-49d7-a987-eb7767d78be2",
   "metadata": {},
   "outputs": [],
   "source": []
  }
 ],
 "metadata": {
  "environment": {
   "kernel": "conda-base-py",
   "name": "workbench-notebooks.m120",
   "type": "gcloud",
   "uri": "us-docker.pkg.dev/deeplearning-platform-release/gcr.io/workbench-notebooks:m120"
  },
  "kernelspec": {
   "display_name": "Python 3 (ipykernel)",
   "language": "python",
   "name": "conda-base-py"
  },
  "language_info": {
   "codemirror_mode": {
    "name": "ipython",
    "version": 3
   },
   "file_extension": ".py",
   "mimetype": "text/x-python",
   "name": "python",
   "nbconvert_exporter": "python",
   "pygments_lexer": "ipython3",
   "version": "3.10.14"
  }
 },
 "nbformat": 4,
 "nbformat_minor": 5
}

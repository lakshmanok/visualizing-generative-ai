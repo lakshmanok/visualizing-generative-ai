{
 "cells": [
  {
   "cell_type": "markdown",
   "id": "c8616aa7-cc1f-4781-8d8e-81f0be58a07c",
   "metadata": {
    "tags": []
   },
   "source": [
    "# Planning\n",
    "\n",
    "This notebook demonstrates planning using CoT."
   ]
  },
  {
   "cell_type": "code",
   "execution_count": 1,
   "id": "bd69fc04-0efe-451e-93a8-1a6a19ae6e2e",
   "metadata": {
    "tags": []
   },
   "outputs": [],
   "source": [
    "#%pip install -qU langchain-google-vertexai"
   ]
  },
  {
   "cell_type": "code",
   "execution_count": 1,
   "id": "926c7cb8-b6da-4a05-8f6c-debe86ae5aff",
   "metadata": {
    "tags": []
   },
   "outputs": [],
   "source": [
    "from dotenv import load_dotenv\n",
    "\n",
    "load_dotenv(\"../genai_agents/keys.env\");"
   ]
  },
  {
   "cell_type": "code",
   "execution_count": 2,
   "id": "91d4c098-8190-41d8-a991-007e58427399",
   "metadata": {},
   "outputs": [],
   "source": [
    "from langchain_core.prompts import PromptTemplate\n",
    "from langchain_google_vertexai import ChatVertexAI\n",
    "from langchain_core.output_parsers import StrOutputParser"
   ]
  },
  {
   "cell_type": "markdown",
   "id": "2887412e-c2df-4fc3-b486-8da7247ea4f0",
   "metadata": {},
   "source": [
    "## 1. LLMs are improving ...\n",
    "\n",
    "for many questions, they will do a chain-of-thought and come up with the right answer."
   ]
  },
  {
   "cell_type": "code",
   "execution_count": 12,
   "id": "42fc485e-97e2-4669-b4fd-ba34f9accfa8",
   "metadata": {
    "tags": []
   },
   "outputs": [
    {
     "name": "stdout",
     "output_type": "stream",
     "text": [
      "Here's how to break down the question:\n",
      "\n",
      "* **Third most populated state:** This would be Florida.\n",
      "* **Capital:** The capital of Florida is Tallahassee.\n",
      "* **Mayor:**  The current Mayor of Tallahassee is **John Dailey**. \n",
      "\n",
      "Let me know if you have other questions! \n",
      "\n"
     ]
    }
   ],
   "source": [
    "model = ChatVertexAI(model=\"gemini-1.5-flash\")\n",
    "\n",
    "def ask_question(question, chain_of_thought=False):\n",
    "    if chain_of_thought:\n",
    "        preamble = \"\"\"\n",
    "        Write down the steps to solve this question, and work through the steps\n",
    "        one-by-one to come up with the answer\n",
    "        \"\"\"\n",
    "    else:\n",
    "        preamble = \"\"\n",
    "   \n",
    "    prompt_template = PromptTemplate.from_template(\n",
    "        preamble + \"{question}\"\n",
    "    )\n",
    "    parser = StrOutputParser()\n",
    "    chain = prompt_template | model | parser\n",
    "\n",
    "    answer = chain.invoke({\n",
    "        \"question\": question,\n",
    "    })\n",
    "    print(answer)\n",
    "\n",
    "ask_question(\"Who is the Mayor of the capital of the third most populated state in the United States?\")"
   ]
  },
  {
   "cell_type": "markdown",
   "id": "1f143097-cd2f-4bd8-b1be-ad848420cfb3",
   "metadata": {},
   "source": [
    "## At this time, this doesn't work without explicit chain-of-thought"
   ]
  },
  {
   "cell_type": "code",
   "execution_count": null,
   "id": "397f0a26-fdd2-432a-ad51-43dd82d56700",
   "metadata": {},
   "outputs": [],
   "source": []
  }
 ],
 "metadata": {
  "environment": {
   "kernel": "conda-base-py",
   "name": "workbench-notebooks.m120",
   "type": "gcloud",
   "uri": "us-docker.pkg.dev/deeplearning-platform-release/gcr.io/workbench-notebooks:m120"
  },
  "kernelspec": {
   "display_name": "Python 3 (ipykernel)",
   "language": "python",
   "name": "conda-base-py"
  },
  "language_info": {
   "codemirror_mode": {
    "name": "ipython",
    "version": 3
   },
   "file_extension": ".py",
   "mimetype": "text/x-python",
   "name": "python",
   "nbconvert_exporter": "python",
   "pygments_lexer": "ipython3",
   "version": "3.10.14"
  }
 },
 "nbformat": 4,
 "nbformat_minor": 5
}
